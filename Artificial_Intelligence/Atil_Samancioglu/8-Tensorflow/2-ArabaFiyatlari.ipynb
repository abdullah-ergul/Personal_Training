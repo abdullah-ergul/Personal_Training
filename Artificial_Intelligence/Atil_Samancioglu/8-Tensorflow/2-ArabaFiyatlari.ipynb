{
 "cells": [
  {
   "cell_type": "code",
   "execution_count": 1,
   "metadata": {},
   "outputs": [],
   "source": [
    "import numpy as np\n",
    "import pandas as pd\n",
    "import matplotlib.pyplot as plt\n",
    "import seaborn as sbn"
   ]
  },
  {
   "cell_type": "code",
   "execution_count": 2,
   "metadata": {},
   "outputs": [],
   "source": [
    "dataFrame = pd.read_excel(\".\\\\merc.xlsx\")"
   ]
  },
  {
   "attachments": {},
   "cell_type": "markdown",
   "metadata": {},
   "source": [
    "## 1) Veriyi İnceleme Aşaması"
   ]
  },
  {
   "attachments": {},
   "cell_type": "markdown",
   "metadata": {},
   "source": [
    "Öncelikle veri setimizin genel özelliklerini gösteren tabloyu inceleyelim"
   ]
  },
  {
   "cell_type": "code",
   "execution_count": 3,
   "metadata": {},
   "outputs": [
    {
     "data": {
      "text/html": [
       "<div>\n",
       "<style scoped>\n",
       "    .dataframe tbody tr th:only-of-type {\n",
       "        vertical-align: middle;\n",
       "    }\n",
       "\n",
       "    .dataframe tbody tr th {\n",
       "        vertical-align: top;\n",
       "    }\n",
       "\n",
       "    .dataframe thead th {\n",
       "        text-align: right;\n",
       "    }\n",
       "</style>\n",
       "<table border=\"1\" class=\"dataframe\">\n",
       "  <thead>\n",
       "    <tr style=\"text-align: right;\">\n",
       "      <th></th>\n",
       "      <th>year</th>\n",
       "      <th>price</th>\n",
       "      <th>mileage</th>\n",
       "      <th>tax</th>\n",
       "      <th>mpg</th>\n",
       "      <th>engineSize</th>\n",
       "    </tr>\n",
       "  </thead>\n",
       "  <tbody>\n",
       "    <tr>\n",
       "      <th>count</th>\n",
       "      <td>13119.000000</td>\n",
       "      <td>13119.000000</td>\n",
       "      <td>13119.000000</td>\n",
       "      <td>13119.000000</td>\n",
       "      <td>13119.000000</td>\n",
       "      <td>13119.000000</td>\n",
       "    </tr>\n",
       "    <tr>\n",
       "      <th>mean</th>\n",
       "      <td>2017.296288</td>\n",
       "      <td>24698.596920</td>\n",
       "      <td>21949.559037</td>\n",
       "      <td>129.972178</td>\n",
       "      <td>55.155843</td>\n",
       "      <td>2.071530</td>\n",
       "    </tr>\n",
       "    <tr>\n",
       "      <th>std</th>\n",
       "      <td>2.224709</td>\n",
       "      <td>11842.675542</td>\n",
       "      <td>21176.512267</td>\n",
       "      <td>65.260286</td>\n",
       "      <td>15.220082</td>\n",
       "      <td>0.572426</td>\n",
       "    </tr>\n",
       "    <tr>\n",
       "      <th>min</th>\n",
       "      <td>1970.000000</td>\n",
       "      <td>650.000000</td>\n",
       "      <td>1.000000</td>\n",
       "      <td>0.000000</td>\n",
       "      <td>1.100000</td>\n",
       "      <td>0.000000</td>\n",
       "    </tr>\n",
       "    <tr>\n",
       "      <th>25%</th>\n",
       "      <td>2016.000000</td>\n",
       "      <td>17450.000000</td>\n",
       "      <td>6097.500000</td>\n",
       "      <td>125.000000</td>\n",
       "      <td>45.600000</td>\n",
       "      <td>1.800000</td>\n",
       "    </tr>\n",
       "    <tr>\n",
       "      <th>50%</th>\n",
       "      <td>2018.000000</td>\n",
       "      <td>22480.000000</td>\n",
       "      <td>15189.000000</td>\n",
       "      <td>145.000000</td>\n",
       "      <td>56.500000</td>\n",
       "      <td>2.000000</td>\n",
       "    </tr>\n",
       "    <tr>\n",
       "      <th>75%</th>\n",
       "      <td>2019.000000</td>\n",
       "      <td>28980.000000</td>\n",
       "      <td>31779.500000</td>\n",
       "      <td>145.000000</td>\n",
       "      <td>64.200000</td>\n",
       "      <td>2.100000</td>\n",
       "    </tr>\n",
       "    <tr>\n",
       "      <th>max</th>\n",
       "      <td>2020.000000</td>\n",
       "      <td>159999.000000</td>\n",
       "      <td>259000.000000</td>\n",
       "      <td>580.000000</td>\n",
       "      <td>217.300000</td>\n",
       "      <td>6.200000</td>\n",
       "    </tr>\n",
       "  </tbody>\n",
       "</table>\n",
       "</div>"
      ],
      "text/plain": [
       "               year          price        mileage           tax           mpg  \\\n",
       "count  13119.000000   13119.000000   13119.000000  13119.000000  13119.000000   \n",
       "mean    2017.296288   24698.596920   21949.559037    129.972178     55.155843   \n",
       "std        2.224709   11842.675542   21176.512267     65.260286     15.220082   \n",
       "min     1970.000000     650.000000       1.000000      0.000000      1.100000   \n",
       "25%     2016.000000   17450.000000    6097.500000    125.000000     45.600000   \n",
       "50%     2018.000000   22480.000000   15189.000000    145.000000     56.500000   \n",
       "75%     2019.000000   28980.000000   31779.500000    145.000000     64.200000   \n",
       "max     2020.000000  159999.000000  259000.000000    580.000000    217.300000   \n",
       "\n",
       "         engineSize  \n",
       "count  13119.000000  \n",
       "mean       2.071530  \n",
       "std        0.572426  \n",
       "min        0.000000  \n",
       "25%        1.800000  \n",
       "50%        2.000000  \n",
       "75%        2.100000  \n",
       "max        6.200000  "
      ]
     },
     "execution_count": 3,
     "metadata": {},
     "output_type": "execute_result"
    }
   ],
   "source": [
    "dataFrame.describe()"
   ]
  },
  {
   "attachments": {},
   "cell_type": "markdown",
   "metadata": {},
   "source": [
    "1 - Verilerin içinde boş değer var mı"
   ]
  },
  {
   "cell_type": "code",
   "execution_count": 4,
   "metadata": {},
   "outputs": [
    {
     "data": {
      "text/plain": [
       "year            0\n",
       "price           0\n",
       "transmission    0\n",
       "mileage         0\n",
       "tax             0\n",
       "mpg             0\n",
       "engineSize      0\n",
       "dtype: int64"
      ]
     },
     "execution_count": 4,
     "metadata": {},
     "output_type": "execute_result"
    }
   ],
   "source": [
    "dataFrame.isnull().sum()"
   ]
  },
  {
   "attachments": {},
   "cell_type": "markdown",
   "metadata": {},
   "source": [
    "Veri setimizin içinde boş değer olmadığını görüyoruz."
   ]
  },
  {
   "attachments": {},
   "cell_type": "markdown",
   "metadata": {},
   "source": [
    "2 - Veri setimizin fiyat içeriklerini gözlemleyelim"
   ]
  },
  {
   "cell_type": "code",
   "execution_count": 5,
   "metadata": {},
   "outputs": [
    {
     "data": {
      "text/plain": [
       "<seaborn.axisgrid.FacetGrid at 0x2516395bbb0>"
      ]
     },
     "execution_count": 5,
     "metadata": {},
     "output_type": "execute_result"
    },
    {
     "data": {
      "text/plain": [
       "<Figure size 700x500 with 0 Axes>"
      ]
     },
     "metadata": {},
     "output_type": "display_data"
    },
    {
     "data": {
      "image/png": "[encoded data removed]",
      "text/plain": [
       "<Figure size 500x500 with 1 Axes>"
      ]
     },
     "metadata": {},
     "output_type": "display_data"
    }
   ],
   "source": [
    "plt.figure(figsize=(7,5))\n",
    "sbn.displot(dataFrame[\"price\"])"
   ]
  },
  {
   "attachments": {},
   "cell_type": "markdown",
   "metadata": {},
   "source": [
    "Gördüğümüz gibi 60000£ değerinden yüksek fiyatlı araçlar verimizde sıkıntı oluşturabilir."
   ]
  },
  {
   "attachments": {},
   "cell_type": "markdown",
   "metadata": {},
   "source": [
    "3 - Veri setimizin yıl dağılımını inceleyelim"
   ]
  },
  {
   "cell_type": "code",
   "execution_count": 6,
   "metadata": {},
   "outputs": [
    {
     "data": {
      "text/plain": [
       "<AxesSubplot: xlabel='year', ylabel='count'>"
      ]
     },
     "execution_count": 6,
     "metadata": {},
     "output_type": "execute_result"
    },
    {
     "data": {
      "image/png": "[encoded data removed]",
      "text/plain": [
       "<Figure size 640x480 with 1 Axes>"
      ]
     },
     "metadata": {},
     "output_type": "display_data"
    }
   ],
   "source": [
    "sbn.countplot(x= dataFrame[\"year\"])"
   ]
  },
  {
   "attachments": {},
   "cell_type": "markdown",
   "metadata": {},
   "source": [
    "Veri setimizdeki arabaların çoğunlukla son yıllarda çıkmış olduğunu görebilirouz."
   ]
  },
  {
   "attachments": {},
   "cell_type": "markdown",
   "metadata": {},
   "source": [
    "4 - Veri setimizdeki fiyatların hangi diğer özelliklerle ne kadar ilişkili olduğuna bakalım"
   ]
  },
  {
   "cell_type": "code",
   "execution_count": 7,
   "metadata": {},
   "outputs": [
    {
     "name": "stderr",
     "output_type": "stream",
     "text": [
      "C:\\Users\\Abdullah\\AppData\\Local\\Temp\\ipykernel_34452\\625300545.py:1: FutureWarning: The default value of numeric_only in DataFrame.corr is deprecated. In a future version, it will default to False. Select only valid columns or specify the value of numeric_only to silence this warning.\n",
      "  dataFrame.corr()[\"price\"].sort_values()\n"
     ]
    },
    {
     "data": {
      "text/plain": [
       "mileage      -0.537214\n",
       "mpg          -0.438445\n",
       "tax           0.268717\n",
       "engineSize    0.516126\n",
       "year          0.520712\n",
       "price         1.000000\n",
       "Name: price, dtype: float64"
      ]
     },
     "execution_count": 7,
     "metadata": {},
     "output_type": "execute_result"
    }
   ],
   "source": [
    "dataFrame.corr()[\"price\"].sort_values()"
   ]
  },
  {
   "attachments": {},
   "cell_type": "markdown",
   "metadata": {},
   "source": [
    "Araçların fiyatları ile diğer özellikleri arasındaki ilişkinin sıralanmış hali yukardaki gibi. Listeyi inceleiğimizde pozitif değerlerin doğu orantılı, negatif değerlerin ise ters orantılı olduğunu anlayabiliriz. Değerlerin büyüklükleri ise veriler arasındaki ilişki düzeyi olarak adlandırabiliriz."
   ]
  },
  {
   "attachments": {},
   "cell_type": "markdown",
   "metadata": {},
   "source": [
    "5 - Veri setimizdeki araçların fiyatları ile diğer özellikleri bir grafik haline getirelim. Örnek olarak mileage-price ilişkisinin grafiğini çizelim."
   ]
  },
  {
   "cell_type": "code",
   "execution_count": 8,
   "metadata": {},
   "outputs": [
    {
     "data": {
      "text/plain": [
       "<AxesSubplot: xlabel='mileage', ylabel='price'>"
      ]
     },
     "execution_count": 8,
     "metadata": {},
     "output_type": "execute_result"
    },
    {
     "data": {
      "image/png": "[encoded data removed]",
      "text/plain": [
       "<Figure size 640x480 with 1 Axes>"
      ]
     },
     "metadata": {},
     "output_type": "display_data"
    }
   ],
   "source": [
    "sbn.scatterplot(x=\"mileage\", y=\"price\", data=dataFrame)"
   ]
  },
  {
   "attachments": {},
   "cell_type": "markdown",
   "metadata": {},
   "source": [
    "Grafikten de rahatça anlaşılabileceği gibi ters orantılı ilişki görmekteyiz."
   ]
  },
  {
   "attachments": {},
   "cell_type": "markdown",
   "metadata": {},
   "source": [
    "## 2) Veriyi Düzenleme Aşaması"
   ]
  },
  {
   "attachments": {},
   "cell_type": "markdown",
   "metadata": {},
   "source": [
    "1 - Öncelikle veri setimizi fiyatına göre küçükten büyüğe (ascending= True) bir şekilde sıralayıp ilk 20 satırı gözlemleyelim. Küçükten büyüğe sıralamamızın sebebi verşmizdeki arabalarının büyük çoğunluğunun ucuz olmasından kaynaklı."
   ]
  },
  {
   "cell_type": "code",
   "execution_count": 9,
   "metadata": {},
   "outputs": [
    {
     "data": {
      "text/html": [
       "<div>\n",
       "<style scoped>\n",
       "    .dataframe tbody tr th:only-of-type {\n",
       "        vertical-align: middle;\n",
       "    }\n",
       "\n",
       "    .dataframe tbody tr th {\n",
       "        vertical-align: top;\n",
       "    }\n",
       "\n",
       "    .dataframe thead th {\n",
       "        text-align: right;\n",
       "    }\n",
       "</style>\n",
       "<table border=\"1\" class=\"dataframe\">\n",
       "  <thead>\n",
       "    <tr style=\"text-align: right;\">\n",
       "      <th></th>\n",
       "      <th>year</th>\n",
       "      <th>price</th>\n",
       "      <th>transmission</th>\n",
       "      <th>mileage</th>\n",
       "      <th>tax</th>\n",
       "      <th>mpg</th>\n",
       "      <th>engineSize</th>\n",
       "    </tr>\n",
       "  </thead>\n",
       "  <tbody>\n",
       "    <tr>\n",
       "      <th>11816</th>\n",
       "      <td>2003</td>\n",
       "      <td>650</td>\n",
       "      <td>Manual</td>\n",
       "      <td>109090</td>\n",
       "      <td>235</td>\n",
       "      <td>40.0</td>\n",
       "      <td>1.4</td>\n",
       "    </tr>\n",
       "    <tr>\n",
       "      <th>12008</th>\n",
       "      <td>2010</td>\n",
       "      <td>1350</td>\n",
       "      <td>Manual</td>\n",
       "      <td>116126</td>\n",
       "      <td>145</td>\n",
       "      <td>54.3</td>\n",
       "      <td>2.0</td>\n",
       "    </tr>\n",
       "    <tr>\n",
       "      <th>11765</th>\n",
       "      <td>2000</td>\n",
       "      <td>1490</td>\n",
       "      <td>Automatic</td>\n",
       "      <td>87000</td>\n",
       "      <td>265</td>\n",
       "      <td>27.2</td>\n",
       "      <td>3.2</td>\n",
       "    </tr>\n",
       "    <tr>\n",
       "      <th>11549</th>\n",
       "      <td>2002</td>\n",
       "      <td>1495</td>\n",
       "      <td>Automatic</td>\n",
       "      <td>13800</td>\n",
       "      <td>305</td>\n",
       "      <td>39.8</td>\n",
       "      <td>2.7</td>\n",
       "    </tr>\n",
       "    <tr>\n",
       "      <th>12594</th>\n",
       "      <td>2004</td>\n",
       "      <td>1495</td>\n",
       "      <td>Manual</td>\n",
       "      <td>119000</td>\n",
       "      <td>300</td>\n",
       "      <td>34.5</td>\n",
       "      <td>1.8</td>\n",
       "    </tr>\n",
       "    <tr>\n",
       "      <th>11174</th>\n",
       "      <td>2001</td>\n",
       "      <td>1695</td>\n",
       "      <td>Automatic</td>\n",
       "      <td>108800</td>\n",
       "      <td>325</td>\n",
       "      <td>31.7</td>\n",
       "      <td>3.2</td>\n",
       "    </tr>\n",
       "    <tr>\n",
       "      <th>12710</th>\n",
       "      <td>2006</td>\n",
       "      <td>1695</td>\n",
       "      <td>Automatic</td>\n",
       "      <td>153000</td>\n",
       "      <td>300</td>\n",
       "      <td>33.6</td>\n",
       "      <td>1.8</td>\n",
       "    </tr>\n",
       "    <tr>\n",
       "      <th>12766</th>\n",
       "      <td>2004</td>\n",
       "      <td>1780</td>\n",
       "      <td>Automatic</td>\n",
       "      <td>118000</td>\n",
       "      <td>265</td>\n",
       "      <td>41.5</td>\n",
       "      <td>2.2</td>\n",
       "    </tr>\n",
       "    <tr>\n",
       "      <th>12009</th>\n",
       "      <td>2007</td>\n",
       "      <td>1800</td>\n",
       "      <td>Automatic</td>\n",
       "      <td>84000</td>\n",
       "      <td>200</td>\n",
       "      <td>42.8</td>\n",
       "      <td>1.5</td>\n",
       "    </tr>\n",
       "    <tr>\n",
       "      <th>11764</th>\n",
       "      <td>1998</td>\n",
       "      <td>1990</td>\n",
       "      <td>Automatic</td>\n",
       "      <td>99300</td>\n",
       "      <td>265</td>\n",
       "      <td>32.1</td>\n",
       "      <td>2.3</td>\n",
       "    </tr>\n",
       "    <tr>\n",
       "      <th>11808</th>\n",
       "      <td>1998</td>\n",
       "      <td>1990</td>\n",
       "      <td>Automatic</td>\n",
       "      <td>113557</td>\n",
       "      <td>265</td>\n",
       "      <td>32.1</td>\n",
       "      <td>2.3</td>\n",
       "    </tr>\n",
       "    <tr>\n",
       "      <th>11383</th>\n",
       "      <td>2005</td>\n",
       "      <td>1995</td>\n",
       "      <td>Automatic</td>\n",
       "      <td>105000</td>\n",
       "      <td>260</td>\n",
       "      <td>43.5</td>\n",
       "      <td>2.1</td>\n",
       "    </tr>\n",
       "    <tr>\n",
       "      <th>11378</th>\n",
       "      <td>2004</td>\n",
       "      <td>1995</td>\n",
       "      <td>Semi-Auto</td>\n",
       "      <td>165000</td>\n",
       "      <td>330</td>\n",
       "      <td>20.0</td>\n",
       "      <td>3.7</td>\n",
       "    </tr>\n",
       "    <tr>\n",
       "      <th>11857</th>\n",
       "      <td>2002</td>\n",
       "      <td>2140</td>\n",
       "      <td>Automatic</td>\n",
       "      <td>52700</td>\n",
       "      <td>325</td>\n",
       "      <td>31.4</td>\n",
       "      <td>2.0</td>\n",
       "    </tr>\n",
       "    <tr>\n",
       "      <th>11906</th>\n",
       "      <td>2007</td>\n",
       "      <td>2478</td>\n",
       "      <td>Automatic</td>\n",
       "      <td>81000</td>\n",
       "      <td>160</td>\n",
       "      <td>49.6</td>\n",
       "      <td>2.0</td>\n",
       "    </tr>\n",
       "    <tr>\n",
       "      <th>11795</th>\n",
       "      <td>2005</td>\n",
       "      <td>2490</td>\n",
       "      <td>Automatic</td>\n",
       "      <td>101980</td>\n",
       "      <td>200</td>\n",
       "      <td>47.9</td>\n",
       "      <td>2.0</td>\n",
       "    </tr>\n",
       "    <tr>\n",
       "      <th>12765</th>\n",
       "      <td>2004</td>\n",
       "      <td>2495</td>\n",
       "      <td>Automatic</td>\n",
       "      <td>104000</td>\n",
       "      <td>325</td>\n",
       "      <td>31.7</td>\n",
       "      <td>1.8</td>\n",
       "    </tr>\n",
       "    <tr>\n",
       "      <th>11943</th>\n",
       "      <td>2005</td>\n",
       "      <td>2690</td>\n",
       "      <td>Automatic</td>\n",
       "      <td>109000</td>\n",
       "      <td>325</td>\n",
       "      <td>32.1</td>\n",
       "      <td>1.8</td>\n",
       "    </tr>\n",
       "    <tr>\n",
       "      <th>11263</th>\n",
       "      <td>2007</td>\n",
       "      <td>2795</td>\n",
       "      <td>Manual</td>\n",
       "      <td>79485</td>\n",
       "      <td>200</td>\n",
       "      <td>45.6</td>\n",
       "      <td>1.5</td>\n",
       "    </tr>\n",
       "    <tr>\n",
       "      <th>49</th>\n",
       "      <td>2006</td>\n",
       "      <td>2880</td>\n",
       "      <td>Automatic</td>\n",
       "      <td>66000</td>\n",
       "      <td>160</td>\n",
       "      <td>52.3</td>\n",
       "      <td>2.0</td>\n",
       "    </tr>\n",
       "  </tbody>\n",
       "</table>\n",
       "</div>"
      ],
      "text/plain": [
       "       year  price transmission  mileage  tax   mpg  engineSize\n",
       "11816  2003    650       Manual   109090  235  40.0         1.4\n",
       "12008  2010   1350       Manual   116126  145  54.3         2.0\n",
       "11765  2000   1490    Automatic    87000  265  27.2         3.2\n",
       "11549  2002   1495    Automatic    13800  305  39.8         2.7\n",
       "12594  2004   1495       Manual   119000  300  34.5         1.8\n",
       "11174  2001   1695    Automatic   108800  325  31.7         3.2\n",
       "12710  2006   1695    Automatic   153000  300  33.6         1.8\n",
       "12766  2004   1780    Automatic   118000  265  41.5         2.2\n",
       "12009  2007   1800    Automatic    84000  200  42.8         1.5\n",
       "11764  1998   1990    Automatic    99300  265  32.1         2.3\n",
       "11808  1998   1990    Automatic   113557  265  32.1         2.3\n",
       "11383  2005   1995    Automatic   105000  260  43.5         2.1\n",
       "11378  2004   1995    Semi-Auto   165000  330  20.0         3.7\n",
       "11857  2002   2140    Automatic    52700  325  31.4         2.0\n",
       "11906  2007   2478    Automatic    81000  160  49.6         2.0\n",
       "11795  2005   2490    Automatic   101980  200  47.9         2.0\n",
       "12765  2004   2495    Automatic   104000  325  31.7         1.8\n",
       "11943  2005   2690    Automatic   109000  325  32.1         1.8\n",
       "11263  2007   2795       Manual    79485  200  45.6         1.5\n",
       "49     2006   2880    Automatic    66000  160  52.3         2.0"
      ]
     },
     "execution_count": 9,
     "metadata": {},
     "output_type": "execute_result"
    }
   ],
   "source": [
    "dataFrame.sort_values(\"price\", ascending= True).head(20)"
   ]
  },
  {
   "attachments": {},
   "cell_type": "markdown",
   "metadata": {},
   "source": [
    "2 - Veri setimizdeki çok yüksek fiyatlı araçlar verimizde karmaşıklık oluşturacağından ve tüm verinin %99'luk kısmının yeterli olacağını düşündüğümüzden en pahalı,"
   ]
  },
  {
   "cell_type": "code",
   "execution_count": 10,
   "metadata": {},
   "outputs": [
    {
     "data": {
      "text/plain": [
       "131.19"
      ]
     },
     "execution_count": 10,
     "metadata": {},
     "output_type": "execute_result"
    }
   ],
   "source": [
    "len(dataFrame) * 0.01"
   ]
  },
  {
   "attachments": {},
   "cell_type": "markdown",
   "metadata": {},
   "source": [
    "131 aracı veri setimizden çıkartalım ve bunu yeni oluşturduğumuz dataframe'ye atayalım."
   ]
  },
  {
   "cell_type": "code",
   "execution_count": 11,
   "metadata": {},
   "outputs": [],
   "source": [
    "yeniDataFrame = dataFrame.sort_values(\"price\", ascending= False).iloc[131:]"
   ]
  },
  {
   "attachments": {},
   "cell_type": "markdown",
   "metadata": {},
   "source": [
    "Oluşturduğumuz yeni dataframe eskisinin %99'luk kısmını içermekte."
   ]
  },
  {
   "attachments": {},
   "cell_type": "markdown",
   "metadata": {},
   "source": [
    "3 - yeniDataFrame'mizin özelliklerini inceleyelim"
   ]
  },
  {
   "cell_type": "code",
   "execution_count": 12,
   "metadata": {},
   "outputs": [
    {
     "data": {
      "text/html": [
       "<div>\n",
       "<style scoped>\n",
       "    .dataframe tbody tr th:only-of-type {\n",
       "        vertical-align: middle;\n",
       "    }\n",
       "\n",
       "    .dataframe tbody tr th {\n",
       "        vertical-align: top;\n",
       "    }\n",
       "\n",
       "    .dataframe thead th {\n",
       "        text-align: right;\n",
       "    }\n",
       "</style>\n",
       "<table border=\"1\" class=\"dataframe\">\n",
       "  <thead>\n",
       "    <tr style=\"text-align: right;\">\n",
       "      <th></th>\n",
       "      <th>year</th>\n",
       "      <th>price</th>\n",
       "      <th>mileage</th>\n",
       "      <th>tax</th>\n",
       "      <th>mpg</th>\n",
       "      <th>engineSize</th>\n",
       "    </tr>\n",
       "  </thead>\n",
       "  <tbody>\n",
       "    <tr>\n",
       "      <th>count</th>\n",
       "      <td>12988.000000</td>\n",
       "      <td>12988.000000</td>\n",
       "      <td>12988.000000</td>\n",
       "      <td>12988.000000</td>\n",
       "      <td>12988.000000</td>\n",
       "      <td>12988.000000</td>\n",
       "    </tr>\n",
       "    <tr>\n",
       "      <th>mean</th>\n",
       "      <td>2017.281876</td>\n",
       "      <td>24074.926933</td>\n",
       "      <td>22132.741146</td>\n",
       "      <td>129.689714</td>\n",
       "      <td>55.437142</td>\n",
       "      <td>2.050901</td>\n",
       "    </tr>\n",
       "    <tr>\n",
       "      <th>std</th>\n",
       "      <td>2.228515</td>\n",
       "      <td>9866.224575</td>\n",
       "      <td>21196.776401</td>\n",
       "      <td>65.183076</td>\n",
       "      <td>15.025999</td>\n",
       "      <td>0.532596</td>\n",
       "    </tr>\n",
       "    <tr>\n",
       "      <th>min</th>\n",
       "      <td>1970.000000</td>\n",
       "      <td>650.000000</td>\n",
       "      <td>1.000000</td>\n",
       "      <td>0.000000</td>\n",
       "      <td>1.100000</td>\n",
       "      <td>0.000000</td>\n",
       "    </tr>\n",
       "    <tr>\n",
       "      <th>25%</th>\n",
       "      <td>2016.000000</td>\n",
       "      <td>17357.500000</td>\n",
       "      <td>6322.000000</td>\n",
       "      <td>125.000000</td>\n",
       "      <td>45.600000</td>\n",
       "      <td>1.675000</td>\n",
       "    </tr>\n",
       "    <tr>\n",
       "      <th>50%</th>\n",
       "      <td>2018.000000</td>\n",
       "      <td>22299.000000</td>\n",
       "      <td>15369.500000</td>\n",
       "      <td>145.000000</td>\n",
       "      <td>56.500000</td>\n",
       "      <td>2.000000</td>\n",
       "    </tr>\n",
       "    <tr>\n",
       "      <th>75%</th>\n",
       "      <td>2019.000000</td>\n",
       "      <td>28706.000000</td>\n",
       "      <td>31982.250000</td>\n",
       "      <td>145.000000</td>\n",
       "      <td>64.200000</td>\n",
       "      <td>2.100000</td>\n",
       "    </tr>\n",
       "    <tr>\n",
       "      <th>max</th>\n",
       "      <td>2020.000000</td>\n",
       "      <td>65990.000000</td>\n",
       "      <td>259000.000000</td>\n",
       "      <td>580.000000</td>\n",
       "      <td>217.300000</td>\n",
       "      <td>6.200000</td>\n",
       "    </tr>\n",
       "  </tbody>\n",
       "</table>\n",
       "</div>"
      ],
      "text/plain": [
       "               year         price        mileage           tax           mpg  \\\n",
       "count  12988.000000  12988.000000   12988.000000  12988.000000  12988.000000   \n",
       "mean    2017.281876  24074.926933   22132.741146    129.689714     55.437142   \n",
       "std        2.228515   9866.224575   21196.776401     65.183076     15.025999   \n",
       "min     1970.000000    650.000000       1.000000      0.000000      1.100000   \n",
       "25%     2016.000000  17357.500000    6322.000000    125.000000     45.600000   \n",
       "50%     2018.000000  22299.000000   15369.500000    145.000000     56.500000   \n",
       "75%     2019.000000  28706.000000   31982.250000    145.000000     64.200000   \n",
       "max     2020.000000  65990.000000  259000.000000    580.000000    217.300000   \n",
       "\n",
       "         engineSize  \n",
       "count  12988.000000  \n",
       "mean       2.050901  \n",
       "std        0.532596  \n",
       "min        0.000000  \n",
       "25%        1.675000  \n",
       "50%        2.000000  \n",
       "75%        2.100000  \n",
       "max        6.200000  "
      ]
     },
     "execution_count": 12,
     "metadata": {},
     "output_type": "execute_result"
    }
   ],
   "source": [
    "yeniDataFrame.describe()"
   ]
  },
  {
   "attachments": {},
   "cell_type": "markdown",
   "metadata": {},
   "source": [
    "4 - yeniDataFrame'mizin fiyat dağılımını bir grafik üzerinde inceleyelim."
   ]
  },
  {
   "cell_type": "code",
   "execution_count": 13,
   "metadata": {},
   "outputs": [
    {
     "data": {
      "text/plain": [
       "<seaborn.axisgrid.FacetGrid at 0x25164188760>"
      ]
     },
     "execution_count": 13,
     "metadata": {},
     "output_type": "execute_result"
    },
    {
     "data": {
      "text/plain": [
       "<Figure size 700x500 with 0 Axes>"
      ]
     },
     "metadata": {},
     "output_type": "display_data"
    },
    {
     "data": {
      "image/png": "[encoded data removed]",
      "text/plain": [
       "<Figure size 500x500 with 1 Axes>"
      ]
     },
     "metadata": {},
     "output_type": "display_data"
    }
   ],
   "source": [
    "plt.figure(figsize=(7,5))\n",
    "sbn.displot(yeniDataFrame[\"price\"])"
   ]
  },
  {
   "attachments": {},
   "cell_type": "markdown",
   "metadata": {},
   "source": [
    "Veri setimiz eskisinde göre daha düzgün dağılmış durumda"
   ]
  },
  {
   "attachments": {},
   "cell_type": "markdown",
   "metadata": {},
   "source": [
    "5 - yeniDataFrame içerisindeki verileri yıllara göre gruplayıp ortalama fiyatlarını inceleyelim."
   ]
  },
  {
   "cell_type": "code",
   "execution_count": 14,
   "metadata": {},
   "outputs": [
    {
     "name": "stderr",
     "output_type": "stream",
     "text": [
      "C:\\Users\\Abdullah\\AppData\\Local\\Temp\\ipykernel_34452\\1034697591.py:1: FutureWarning: The default value of numeric_only in DataFrameGroupBy.mean is deprecated. In a future version, numeric_only will default to False. Either specify numeric_only or select only columns which should be valid for the function.\n",
      "  yeniDataFrame.groupby(\"year\").mean()[\"price\"]\n"
     ]
    },
    {
     "data": {
      "text/plain": [
       "year\n",
       "1970    24999.000000\n",
       "1997     9995.000000\n",
       "1998     8605.000000\n",
       "1999     5995.000000\n",
       "2000     5743.333333\n",
       "2001     4957.900000\n",
       "2002     5820.444444\n",
       "2003     4878.000000\n",
       "2004     4727.615385\n",
       "2005     4426.111111\n",
       "2006     4036.875000\n",
       "2007     5136.045455\n",
       "2008     6967.437500\n",
       "2009     6166.764706\n",
       "2010     8308.473684\n",
       "2011     8913.459459\n",
       "2012    10845.140351\n",
       "2013    11939.842466\n",
       "2014    14042.936864\n",
       "2015    16647.822222\n",
       "2016    19223.558943\n",
       "2017    21356.280421\n",
       "2018    24800.844506\n",
       "2019    30289.524832\n",
       "2020    34234.794872\n",
       "Name: price, dtype: float64"
      ]
     },
     "execution_count": 14,
     "metadata": {},
     "output_type": "execute_result"
    }
   ],
   "source": [
    "yeniDataFrame.groupby(\"year\").mean()[\"price\"]"
   ]
  },
  {
   "attachments": {},
   "cell_type": "markdown",
   "metadata": {},
   "source": [
    "1970 yılında üretilen araçlar için absürt bir fiyat görmekteyiz. Bu veriler, veri setimizin üzerinde çalışmayı zorlaştırıyor olabilir."
   ]
  },
  {
   "attachments": {},
   "cell_type": "markdown",
   "metadata": {},
   "source": [
    "6 - İstersek 1970 yılıda üretilen araçları veri setimizin içerisinden çıkartabiliriz."
   ]
  },
  {
   "cell_type": "code",
   "execution_count": 15,
   "metadata": {},
   "outputs": [],
   "source": [
    "yeniDataFrame = yeniDataFrame[yeniDataFrame.year != 1970]"
   ]
  },
  {
   "cell_type": "code",
   "execution_count": 16,
   "metadata": {},
   "outputs": [
    {
     "name": "stderr",
     "output_type": "stream",
     "text": [
      "C:\\Users\\Abdullah\\AppData\\Local\\Temp\\ipykernel_34452\\1034697591.py:1: FutureWarning: The default value of numeric_only in DataFrameGroupBy.mean is deprecated. In a future version, numeric_only will default to False. Either specify numeric_only or select only columns which should be valid for the function.\n",
      "  yeniDataFrame.groupby(\"year\").mean()[\"price\"]\n"
     ]
    },
    {
     "data": {
      "text/plain": [
       "year\n",
       "1997     9995.000000\n",
       "1998     8605.000000\n",
       "1999     5995.000000\n",
       "2000     5743.333333\n",
       "2001     4957.900000\n",
       "2002     5820.444444\n",
       "2003     4878.000000\n",
       "2004     4727.615385\n",
       "2005     4426.111111\n",
       "2006     4036.875000\n",
       "2007     5136.045455\n",
       "2008     6967.437500\n",
       "2009     6166.764706\n",
       "2010     8308.473684\n",
       "2011     8913.459459\n",
       "2012    10845.140351\n",
       "2013    11939.842466\n",
       "2014    14042.936864\n",
       "2015    16647.822222\n",
       "2016    19223.558943\n",
       "2017    21356.280421\n",
       "2018    24800.844506\n",
       "2019    30289.524832\n",
       "2020    34234.794872\n",
       "Name: price, dtype: float64"
      ]
     },
     "execution_count": 16,
     "metadata": {},
     "output_type": "execute_result"
    }
   ],
   "source": [
    "yeniDataFrame.groupby(\"year\").mean()[\"price\"]"
   ]
  },
  {
   "attachments": {},
   "cell_type": "markdown",
   "metadata": {},
   "source": [
    "Veri setimiz bu haliyle daha anlaşılabilir görünüyor."
   ]
  },
  {
   "attachments": {},
   "cell_type": "markdown",
   "metadata": {},
   "source": [
    "7 - Veri setimizi tekrardan gözden geçirelim."
   ]
  },
  {
   "cell_type": "code",
   "execution_count": 17,
   "metadata": {},
   "outputs": [
    {
     "data": {
      "text/html": [
       "<div>\n",
       "<style scoped>\n",
       "    .dataframe tbody tr th:only-of-type {\n",
       "        vertical-align: middle;\n",
       "    }\n",
       "\n",
       "    .dataframe tbody tr th {\n",
       "        vertical-align: top;\n",
       "    }\n",
       "\n",
       "    .dataframe thead th {\n",
       "        text-align: right;\n",
       "    }\n",
       "</style>\n",
       "<table border=\"1\" class=\"dataframe\">\n",
       "  <thead>\n",
       "    <tr style=\"text-align: right;\">\n",
       "      <th></th>\n",
       "      <th>year</th>\n",
       "      <th>price</th>\n",
       "      <th>transmission</th>\n",
       "      <th>mileage</th>\n",
       "      <th>tax</th>\n",
       "      <th>mpg</th>\n",
       "      <th>engineSize</th>\n",
       "    </tr>\n",
       "  </thead>\n",
       "  <tbody>\n",
       "    <tr>\n",
       "      <th>6177</th>\n",
       "      <td>2019</td>\n",
       "      <td>65990</td>\n",
       "      <td>Semi-Auto</td>\n",
       "      <td>5076</td>\n",
       "      <td>150</td>\n",
       "      <td>30.4</td>\n",
       "      <td>3.0</td>\n",
       "    </tr>\n",
       "    <tr>\n",
       "      <th>5779</th>\n",
       "      <td>2020</td>\n",
       "      <td>65990</td>\n",
       "      <td>Semi-Auto</td>\n",
       "      <td>999</td>\n",
       "      <td>145</td>\n",
       "      <td>28.0</td>\n",
       "      <td>4.0</td>\n",
       "    </tr>\n",
       "    <tr>\n",
       "      <th>3191</th>\n",
       "      <td>2020</td>\n",
       "      <td>65980</td>\n",
       "      <td>Semi-Auto</td>\n",
       "      <td>3999</td>\n",
       "      <td>145</td>\n",
       "      <td>28.0</td>\n",
       "      <td>4.0</td>\n",
       "    </tr>\n",
       "    <tr>\n",
       "      <th>4727</th>\n",
       "      <td>2019</td>\n",
       "      <td>65000</td>\n",
       "      <td>Semi-Auto</td>\n",
       "      <td>3398</td>\n",
       "      <td>145</td>\n",
       "      <td>27.2</td>\n",
       "      <td>4.0</td>\n",
       "    </tr>\n",
       "    <tr>\n",
       "      <th>8814</th>\n",
       "      <td>2019</td>\n",
       "      <td>64999</td>\n",
       "      <td>Semi-Auto</td>\n",
       "      <td>119</td>\n",
       "      <td>145</td>\n",
       "      <td>40.9</td>\n",
       "      <td>3.0</td>\n",
       "    </tr>\n",
       "  </tbody>\n",
       "</table>\n",
       "</div>"
      ],
      "text/plain": [
       "      year  price transmission  mileage  tax   mpg  engineSize\n",
       "6177  2019  65990    Semi-Auto     5076  150  30.4         3.0\n",
       "5779  2020  65990    Semi-Auto      999  145  28.0         4.0\n",
       "3191  2020  65980    Semi-Auto     3999  145  28.0         4.0\n",
       "4727  2019  65000    Semi-Auto     3398  145  27.2         4.0\n",
       "8814  2019  64999    Semi-Auto      119  145  40.9         3.0"
      ]
     },
     "execution_count": 17,
     "metadata": {},
     "output_type": "execute_result"
    }
   ],
   "source": [
    "yeniDataFrame.head()"
   ]
  },
  {
   "attachments": {},
   "cell_type": "markdown",
   "metadata": {},
   "source": [
    "Veri setimizdeki \"transmission\" sayısal veri taşımadığından dolayı regresyonda hata verecektir. Hata vermemesi için bu sütunu veri setimizden çıkartalım."
   ]
  },
  {
   "cell_type": "code",
   "execution_count": 18,
   "metadata": {},
   "outputs": [],
   "source": [
    "yeniDataFrame = yeniDataFrame.drop(\"transmission\",axis=1)"
   ]
  },
  {
   "attachments": {},
   "cell_type": "markdown",
   "metadata": {},
   "source": [
    "8 - Son bir kez verimizi inceleyelim."
   ]
  },
  {
   "cell_type": "code",
   "execution_count": 19,
   "metadata": {},
   "outputs": [
    {
     "data": {
      "text/html": [
       "<div>\n",
       "<style scoped>\n",
       "    .dataframe tbody tr th:only-of-type {\n",
       "        vertical-align: middle;\n",
       "    }\n",
       "\n",
       "    .dataframe tbody tr th {\n",
       "        vertical-align: top;\n",
       "    }\n",
       "\n",
       "    .dataframe thead th {\n",
       "        text-align: right;\n",
       "    }\n",
       "</style>\n",
       "<table border=\"1\" class=\"dataframe\">\n",
       "  <thead>\n",
       "    <tr style=\"text-align: right;\">\n",
       "      <th></th>\n",
       "      <th>year</th>\n",
       "      <th>price</th>\n",
       "      <th>mileage</th>\n",
       "      <th>tax</th>\n",
       "      <th>mpg</th>\n",
       "      <th>engineSize</th>\n",
       "    </tr>\n",
       "  </thead>\n",
       "  <tbody>\n",
       "    <tr>\n",
       "      <th>count</th>\n",
       "      <td>12987.000000</td>\n",
       "      <td>12987.000000</td>\n",
       "      <td>12987.000000</td>\n",
       "      <td>12987.000000</td>\n",
       "      <td>12987.000000</td>\n",
       "      <td>12987.000000</td>\n",
       "    </tr>\n",
       "    <tr>\n",
       "      <th>mean</th>\n",
       "      <td>2017.285516</td>\n",
       "      <td>24074.855779</td>\n",
       "      <td>22133.367367</td>\n",
       "      <td>129.676215</td>\n",
       "      <td>55.438392</td>\n",
       "      <td>2.051059</td>\n",
       "    </tr>\n",
       "    <tr>\n",
       "      <th>std</th>\n",
       "      <td>2.189633</td>\n",
       "      <td>9866.601115</td>\n",
       "      <td>21197.472376</td>\n",
       "      <td>65.167429</td>\n",
       "      <td>15.025902</td>\n",
       "      <td>0.532313</td>\n",
       "    </tr>\n",
       "    <tr>\n",
       "      <th>min</th>\n",
       "      <td>1997.000000</td>\n",
       "      <td>650.000000</td>\n",
       "      <td>1.000000</td>\n",
       "      <td>0.000000</td>\n",
       "      <td>1.100000</td>\n",
       "      <td>0.000000</td>\n",
       "    </tr>\n",
       "    <tr>\n",
       "      <th>25%</th>\n",
       "      <td>2016.000000</td>\n",
       "      <td>17355.000000</td>\n",
       "      <td>6320.000000</td>\n",
       "      <td>125.000000</td>\n",
       "      <td>45.600000</td>\n",
       "      <td>1.700000</td>\n",
       "    </tr>\n",
       "    <tr>\n",
       "      <th>50%</th>\n",
       "      <td>2018.000000</td>\n",
       "      <td>22299.000000</td>\n",
       "      <td>15371.000000</td>\n",
       "      <td>145.000000</td>\n",
       "      <td>56.500000</td>\n",
       "      <td>2.000000</td>\n",
       "    </tr>\n",
       "    <tr>\n",
       "      <th>75%</th>\n",
       "      <td>2019.000000</td>\n",
       "      <td>28706.000000</td>\n",
       "      <td>31986.500000</td>\n",
       "      <td>145.000000</td>\n",
       "      <td>64.200000</td>\n",
       "      <td>2.100000</td>\n",
       "    </tr>\n",
       "    <tr>\n",
       "      <th>max</th>\n",
       "      <td>2020.000000</td>\n",
       "      <td>65990.000000</td>\n",
       "      <td>259000.000000</td>\n",
       "      <td>580.000000</td>\n",
       "      <td>217.300000</td>\n",
       "      <td>6.200000</td>\n",
       "    </tr>\n",
       "  </tbody>\n",
       "</table>\n",
       "</div>"
      ],
      "text/plain": [
       "               year         price        mileage           tax           mpg  \\\n",
       "count  12987.000000  12987.000000   12987.000000  12987.000000  12987.000000   \n",
       "mean    2017.285516  24074.855779   22133.367367    129.676215     55.438392   \n",
       "std        2.189633   9866.601115   21197.472376     65.167429     15.025902   \n",
       "min     1997.000000    650.000000       1.000000      0.000000      1.100000   \n",
       "25%     2016.000000  17355.000000    6320.000000    125.000000     45.600000   \n",
       "50%     2018.000000  22299.000000   15371.000000    145.000000     56.500000   \n",
       "75%     2019.000000  28706.000000   31986.500000    145.000000     64.200000   \n",
       "max     2020.000000  65990.000000  259000.000000    580.000000    217.300000   \n",
       "\n",
       "         engineSize  \n",
       "count  12987.000000  \n",
       "mean       2.051059  \n",
       "std        0.532313  \n",
       "min        0.000000  \n",
       "25%        1.700000  \n",
       "50%        2.000000  \n",
       "75%        2.100000  \n",
       "max        6.200000  "
      ]
     },
     "execution_count": 19,
     "metadata": {},
     "output_type": "execute_result"
    }
   ],
   "source": [
    "yeniDataFrame.describe()"
   ]
  },
  {
   "cell_type": "code",
   "execution_count": 20,
   "metadata": {},
   "outputs": [
    {
     "data": {
      "text/html": [
       "<div>\n",
       "<style scoped>\n",
       "    .dataframe tbody tr th:only-of-type {\n",
       "        vertical-align: middle;\n",
       "    }\n",
       "\n",
       "    .dataframe tbody tr th {\n",
       "        vertical-align: top;\n",
       "    }\n",
       "\n",
       "    .dataframe thead th {\n",
       "        text-align: right;\n",
       "    }\n",
       "</style>\n",
       "<table border=\"1\" class=\"dataframe\">\n",
       "  <thead>\n",
       "    <tr style=\"text-align: right;\">\n",
       "      <th></th>\n",
       "      <th>year</th>\n",
       "      <th>price</th>\n",
       "      <th>mileage</th>\n",
       "      <th>tax</th>\n",
       "      <th>mpg</th>\n",
       "      <th>engineSize</th>\n",
       "    </tr>\n",
       "  </thead>\n",
       "  <tbody>\n",
       "    <tr>\n",
       "      <th>6177</th>\n",
       "      <td>2019</td>\n",
       "      <td>65990</td>\n",
       "      <td>5076</td>\n",
       "      <td>150</td>\n",
       "      <td>30.4</td>\n",
       "      <td>3.0</td>\n",
       "    </tr>\n",
       "    <tr>\n",
       "      <th>5779</th>\n",
       "      <td>2020</td>\n",
       "      <td>65990</td>\n",
       "      <td>999</td>\n",
       "      <td>145</td>\n",
       "      <td>28.0</td>\n",
       "      <td>4.0</td>\n",
       "    </tr>\n",
       "    <tr>\n",
       "      <th>3191</th>\n",
       "      <td>2020</td>\n",
       "      <td>65980</td>\n",
       "      <td>3999</td>\n",
       "      <td>145</td>\n",
       "      <td>28.0</td>\n",
       "      <td>4.0</td>\n",
       "    </tr>\n",
       "    <tr>\n",
       "      <th>4727</th>\n",
       "      <td>2019</td>\n",
       "      <td>65000</td>\n",
       "      <td>3398</td>\n",
       "      <td>145</td>\n",
       "      <td>27.2</td>\n",
       "      <td>4.0</td>\n",
       "    </tr>\n",
       "    <tr>\n",
       "      <th>8814</th>\n",
       "      <td>2019</td>\n",
       "      <td>64999</td>\n",
       "      <td>119</td>\n",
       "      <td>145</td>\n",
       "      <td>40.9</td>\n",
       "      <td>3.0</td>\n",
       "    </tr>\n",
       "  </tbody>\n",
       "</table>\n",
       "</div>"
      ],
      "text/plain": [
       "      year  price  mileage  tax   mpg  engineSize\n",
       "6177  2019  65990     5076  150  30.4         3.0\n",
       "5779  2020  65990      999  145  28.0         4.0\n",
       "3191  2020  65980     3999  145  28.0         4.0\n",
       "4727  2019  65000     3398  145  27.2         4.0\n",
       "8814  2019  64999      119  145  40.9         3.0"
      ]
     },
     "execution_count": 20,
     "metadata": {},
     "output_type": "execute_result"
    }
   ],
   "source": [
    "yeniDataFrame.head()"
   ]
  },
  {
   "attachments": {},
   "cell_type": "markdown",
   "metadata": {},
   "source": [
    "Veri setimiz bu hali ile regresyon için uygun görünüyor."
   ]
  },
  {
   "attachments": {},
   "cell_type": "markdown",
   "metadata": {},
   "source": [
    "## 3) Veriyi Yapay Zekaya Analiz Ettirme Aşaması"
   ]
  },
  {
   "attachments": {},
   "cell_type": "markdown",
   "metadata": {},
   "source": [
    "1 - y (aranan) ve x (geriye kalanlar) numpy dizilerimizi oluşturalım"
   ]
  },
  {
   "cell_type": "code",
   "execution_count": 21,
   "metadata": {},
   "outputs": [],
   "source": [
    "y = yeniDataFrame[\"price\"].values\n",
    "x = yeniDataFrame.drop(\"price\", axis=1).values"
   ]
  },
  {
   "cell_type": "code",
   "execution_count": 22,
   "metadata": {},
   "outputs": [],
   "source": [
    "from sklearn.model_selection import train_test_split\n",
    "x_train, x_test, y_train, y_test = train_test_split(x, y, test_size=0.3, random_state=10)"
   ]
  },
  {
   "cell_type": "code",
   "execution_count": 23,
   "metadata": {},
   "outputs": [],
   "source": [
    "from sklearn.preprocessing import MinMaxScaler\n",
    "scaler = MinMaxScaler()"
   ]
  },
  {
   "cell_type": "code",
   "execution_count": 24,
   "metadata": {},
   "outputs": [],
   "source": [
    "x_train = scaler.fit_transform(x_train)\n",
    "x_test = scaler.transform(x_test)"
   ]
  },
  {
   "cell_type": "code",
   "execution_count": 25,
   "metadata": {},
   "outputs": [],
   "source": [
    "from keras.models import Sequential\n",
    "from keras.layers import Dense"
   ]
  },
  {
   "cell_type": "code",
   "execution_count": 26,
   "metadata": {},
   "outputs": [],
   "source": [
    "model = Sequential()\n",
    "model.add(Dense(12, activation=\"relu\"))\n",
    "model.add(Dense(12, activation=\"relu\"))\n",
    "model.add(Dense(12, activation=\"relu\"))\n",
    "model.add(Dense(12, activation=\"relu\"))\n",
    "\n",
    "model.add(Dense(1))\n",
    "\n",
    "model.compile(optimizer=\"adam\", loss=\"mse\")"
   ]
  },
  {
   "cell_type": "code",
   "execution_count": 27,
   "metadata": {},
   "outputs": [
    {
     "name": "stdout",
     "output_type": "stream",
     "text": [
      "Epoch 1/300\n",
      "37/37 [==============================] - 5s 25ms/step - loss: 672134144.0000 - val_loss: 688076032.0000\n",
      "Epoch 2/300\n",
      "37/37 [==============================] - 0s 9ms/step - loss: 672062656.0000 - val_loss: 687944000.0000\n",
      "Epoch 3/300\n",
      "37/37 [==============================] - 0s 11ms/step - loss: 671804672.0000 - val_loss: 687479040.0000\n",
      "Epoch 4/300\n",
      "37/37 [==============================] - 0s 9ms/step - loss: 670970112.0000 - val_loss: 686040768.0000\n",
      "Epoch 5/300\n",
      "37/37 [==============================] - 0s 9ms/step - loss: 668564992.0000 - val_loss: 682202752.0000\n",
      "Epoch 6/300\n",
      "37/37 [==============================] - 0s 12ms/step - loss: 662666688.0000 - val_loss: 673261952.0000\n",
      "Epoch 7/300\n",
      "37/37 [==============================] - 1s 17ms/step - loss: 649825344.0000 - val_loss: 654730624.0000\n",
      "Epoch 8/300\n",
      "37/37 [==============================] - 0s 12ms/step - loss: 624407680.0000 - val_loss: 619905216.0000\n",
      "Epoch 9/300\n",
      "37/37 [==============================] - 0s 9ms/step - loss: 579337344.0000 - val_loss: 560889024.0000\n",
      "Epoch 10/300\n",
      "37/37 [==============================] - 0s 7ms/step - loss: 507416256.0000 - val_loss: 472660576.0000\n",
      "Epoch 11/300\n",
      "37/37 [==============================] - 0s 7ms/step - loss: 407728000.0000 - val_loss: 359732128.0000\n",
      "Epoch 12/300\n",
      "37/37 [==============================] - 0s 6ms/step - loss: 292169024.0000 - val_loss: 241886784.0000\n",
      "Epoch 13/300\n",
      "37/37 [==============================] - 0s 5ms/step - loss: 187634448.0000 - val_loss: 151418000.0000\n",
      "Epoch 14/300\n",
      "37/37 [==============================] - 0s 5ms/step - loss: 121576792.0000 - val_loss: 106963088.0000\n",
      "Epoch 15/300\n",
      "37/37 [==============================] - 0s 4ms/step - loss: 96222032.0000 - val_loss: 94354640.0000\n",
      "Epoch 16/300\n",
      "37/37 [==============================] - 0s 5ms/step - loss: 90640920.0000 - val_loss: 91513808.0000\n",
      "Epoch 17/300\n",
      "37/37 [==============================] - 0s 5ms/step - loss: 89074296.0000 - val_loss: 90115416.0000\n",
      "Epoch 18/300\n",
      "37/37 [==============================] - 0s 4ms/step - loss: 87873704.0000 - val_loss: 88992504.0000\n",
      "Epoch 19/300\n",
      "37/37 [==============================] - 0s 5ms/step - loss: 86759416.0000 - val_loss: 87874376.0000\n",
      "Epoch 20/300\n",
      "37/37 [==============================] - 0s 5ms/step - loss: 85664520.0000 - val_loss: 86845384.0000\n",
      "Epoch 21/300\n",
      "37/37 [==============================] - 0s 6ms/step - loss: 84609792.0000 - val_loss: 85791744.0000\n",
      "Epoch 22/300\n",
      "37/37 [==============================] - 0s 4ms/step - loss: 83576384.0000 - val_loss: 84740248.0000\n",
      "Epoch 23/300\n",
      "37/37 [==============================] - 0s 4ms/step - loss: 82548872.0000 - val_loss: 83768176.0000\n",
      "Epoch 24/300\n",
      "37/37 [==============================] - 0s 4ms/step - loss: 81537216.0000 - val_loss: 82754096.0000\n",
      "Epoch 25/300\n",
      "37/37 [==============================] - 0s 5ms/step - loss: 80527432.0000 - val_loss: 81745928.0000\n",
      "Epoch 26/300\n",
      "37/37 [==============================] - 0s 4ms/step - loss: 79527232.0000 - val_loss: 80760488.0000\n",
      "Epoch 27/300\n",
      "37/37 [==============================] - 0s 5ms/step - loss: 78528920.0000 - val_loss: 79764064.0000\n",
      "Epoch 28/300\n",
      "37/37 [==============================] - 0s 5ms/step - loss: 77539160.0000 - val_loss: 78780224.0000\n",
      "Epoch 29/300\n",
      "37/37 [==============================] - 0s 3ms/step - loss: 76540672.0000 - val_loss: 77795080.0000\n",
      "Epoch 30/300\n",
      "37/37 [==============================] - 0s 3ms/step - loss: 75547656.0000 - val_loss: 76804736.0000\n",
      "Epoch 31/300\n",
      "37/37 [==============================] - 0s 3ms/step - loss: 74546144.0000 - val_loss: 75834888.0000\n",
      "Epoch 32/300\n",
      "37/37 [==============================] - 0s 3ms/step - loss: 73553232.0000 - val_loss: 74805224.0000\n",
      "Epoch 33/300\n",
      "37/37 [==============================] - 0s 2ms/step - loss: 72541680.0000 - val_loss: 73852424.0000\n",
      "Epoch 34/300\n",
      "37/37 [==============================] - 0s 3ms/step - loss: 71524936.0000 - val_loss: 72832064.0000\n",
      "Epoch 35/300\n",
      "37/37 [==============================] - 0s 3ms/step - loss: 70490184.0000 - val_loss: 71805272.0000\n",
      "Epoch 36/300\n",
      "37/37 [==============================] - 0s 2ms/step - loss: 69476152.0000 - val_loss: 70786024.0000\n",
      "Epoch 37/300\n",
      "37/37 [==============================] - 0s 2ms/step - loss: 68440384.0000 - val_loss: 69744176.0000\n",
      "Epoch 38/300\n",
      "37/37 [==============================] - 0s 2ms/step - loss: 67407616.0000 - val_loss: 68715368.0000\n",
      "Epoch 39/300\n",
      "37/37 [==============================] - 0s 3ms/step - loss: 66353024.0000 - val_loss: 67720904.0000\n",
      "Epoch 40/300\n",
      "37/37 [==============================] - 0s 3ms/step - loss: 65322636.0000 - val_loss: 66688500.0000\n",
      "Epoch 41/300\n",
      "37/37 [==============================] - 0s 3ms/step - loss: 64257192.0000 - val_loss: 65602360.0000\n",
      "Epoch 42/300\n",
      "37/37 [==============================] - 0s 2ms/step - loss: 63198348.0000 - val_loss: 64567676.0000\n",
      "Epoch 43/300\n",
      "37/37 [==============================] - 0s 3ms/step - loss: 62135668.0000 - val_loss: 63484708.0000\n",
      "Epoch 44/300\n",
      "37/37 [==============================] - 0s 3ms/step - loss: 61070072.0000 - val_loss: 62425384.0000\n",
      "Epoch 45/300\n",
      "37/37 [==============================] - 0s 4ms/step - loss: 59980428.0000 - val_loss: 61329640.0000\n",
      "Epoch 46/300\n",
      "37/37 [==============================] - 0s 4ms/step - loss: 58914144.0000 - val_loss: 60286728.0000\n",
      "Epoch 47/300\n",
      "37/37 [==============================] - 0s 3ms/step - loss: 57816264.0000 - val_loss: 59158812.0000\n",
      "Epoch 48/300\n",
      "37/37 [==============================] - 0s 3ms/step - loss: 56722256.0000 - val_loss: 58067236.0000\n",
      "Epoch 49/300\n",
      "37/37 [==============================] - 0s 5ms/step - loss: 55628152.0000 - val_loss: 56972016.0000\n",
      "Epoch 50/300\n",
      "37/37 [==============================] - 0s 4ms/step - loss: 54518720.0000 - val_loss: 55861792.0000\n",
      "Epoch 51/300\n",
      "37/37 [==============================] - 0s 7ms/step - loss: 53449092.0000 - val_loss: 54788108.0000\n",
      "Epoch 52/300\n",
      "37/37 [==============================] - 0s 5ms/step - loss: 52339276.0000 - val_loss: 53665716.0000\n",
      "Epoch 53/300\n",
      "37/37 [==============================] - 0s 5ms/step - loss: 51248400.0000 - val_loss: 52548060.0000\n",
      "Epoch 54/300\n",
      "37/37 [==============================] - 0s 3ms/step - loss: 50174868.0000 - val_loss: 51469896.0000\n",
      "Epoch 55/300\n",
      "37/37 [==============================] - 0s 5ms/step - loss: 49110824.0000 - val_loss: 50408016.0000\n",
      "Epoch 56/300\n",
      "37/37 [==============================] - 0s 6ms/step - loss: 48060712.0000 - val_loss: 49310132.0000\n",
      "Epoch 57/300\n",
      "37/37 [==============================] - 0s 4ms/step - loss: 47003144.0000 - val_loss: 48264292.0000\n",
      "Epoch 58/300\n",
      "37/37 [==============================] - 0s 4ms/step - loss: 45983268.0000 - val_loss: 47202376.0000\n",
      "Epoch 59/300\n",
      "37/37 [==============================] - 0s 4ms/step - loss: 44971000.0000 - val_loss: 46188664.0000\n",
      "Epoch 60/300\n",
      "37/37 [==============================] - 0s 4ms/step - loss: 43993176.0000 - val_loss: 45168524.0000\n",
      "Epoch 61/300\n",
      "37/37 [==============================] - 0s 4ms/step - loss: 43029100.0000 - val_loss: 44178312.0000\n",
      "Epoch 62/300\n",
      "37/37 [==============================] - 0s 5ms/step - loss: 42111116.0000 - val_loss: 43249264.0000\n",
      "Epoch 63/300\n",
      "37/37 [==============================] - 0s 4ms/step - loss: 41200416.0000 - val_loss: 42294400.0000\n",
      "Epoch 64/300\n",
      "37/37 [==============================] - 0s 3ms/step - loss: 40325972.0000 - val_loss: 41399440.0000\n",
      "Epoch 65/300\n",
      "37/37 [==============================] - 0s 5ms/step - loss: 39496564.0000 - val_loss: 40530936.0000\n",
      "Epoch 66/300\n",
      "37/37 [==============================] - 0s 3ms/step - loss: 38696324.0000 - val_loss: 39690796.0000\n",
      "Epoch 67/300\n",
      "37/37 [==============================] - 0s 3ms/step - loss: 37932764.0000 - val_loss: 38899216.0000\n",
      "Epoch 68/300\n",
      "37/37 [==============================] - 0s 3ms/step - loss: 37213408.0000 - val_loss: 38167536.0000\n",
      "Epoch 69/300\n",
      "37/37 [==============================] - 0s 3ms/step - loss: 36563904.0000 - val_loss: 37474888.0000\n",
      "Epoch 70/300\n",
      "37/37 [==============================] - 0s 3ms/step - loss: 35878572.0000 - val_loss: 36752760.0000\n",
      "Epoch 71/300\n",
      "37/37 [==============================] - 0s 3ms/step - loss: 35273556.0000 - val_loss: 36100620.0000\n",
      "Epoch 72/300\n",
      "37/37 [==============================] - 0s 4ms/step - loss: 34686796.0000 - val_loss: 35495576.0000\n",
      "Epoch 73/300\n",
      "37/37 [==============================] - 0s 3ms/step - loss: 34115804.0000 - val_loss: 34914432.0000\n",
      "Epoch 74/300\n",
      "37/37 [==============================] - 0s 3ms/step - loss: 33612024.0000 - val_loss: 34363124.0000\n",
      "Epoch 75/300\n",
      "37/37 [==============================] - 0s 4ms/step - loss: 33102222.0000 - val_loss: 33831948.0000\n",
      "Epoch 76/300\n",
      "37/37 [==============================] - 0s 4ms/step - loss: 32631192.0000 - val_loss: 33353836.0000\n",
      "Epoch 77/300\n",
      "37/37 [==============================] - 0s 3ms/step - loss: 32208450.0000 - val_loss: 32911884.0000\n",
      "Epoch 78/300\n",
      "37/37 [==============================] - 0s 3ms/step - loss: 31806744.0000 - val_loss: 32440210.0000\n",
      "Epoch 79/300\n",
      "37/37 [==============================] - 0s 3ms/step - loss: 31365072.0000 - val_loss: 32011844.0000\n",
      "Epoch 80/300\n",
      "37/37 [==============================] - 0s 3ms/step - loss: 30988210.0000 - val_loss: 31614080.0000\n",
      "Epoch 81/300\n",
      "37/37 [==============================] - 0s 3ms/step - loss: 30628740.0000 - val_loss: 31227952.0000\n",
      "Epoch 82/300\n",
      "37/37 [==============================] - 0s 6ms/step - loss: 30261568.0000 - val_loss: 30869340.0000\n",
      "Epoch 83/300\n",
      "37/37 [==============================] - 0s 5ms/step - loss: 29933760.0000 - val_loss: 30527882.0000\n",
      "Epoch 84/300\n",
      "37/37 [==============================] - 0s 6ms/step - loss: 29618980.0000 - val_loss: 30206630.0000\n",
      "Epoch 85/300\n",
      "37/37 [==============================] - 0s 5ms/step - loss: 29342626.0000 - val_loss: 29894900.0000\n",
      "Epoch 86/300\n",
      "37/37 [==============================] - 0s 4ms/step - loss: 29039680.0000 - val_loss: 29608890.0000\n",
      "Epoch 87/300\n",
      "37/37 [==============================] - 0s 3ms/step - loss: 28771996.0000 - val_loss: 29320248.0000\n",
      "Epoch 88/300\n",
      "37/37 [==============================] - 0s 4ms/step - loss: 28504922.0000 - val_loss: 29065250.0000\n",
      "Epoch 89/300\n",
      "37/37 [==============================] - 0s 5ms/step - loss: 28255056.0000 - val_loss: 28814614.0000\n",
      "Epoch 90/300\n",
      "37/37 [==============================] - 0s 5ms/step - loss: 27989198.0000 - val_loss: 28681098.0000\n",
      "Epoch 91/300\n",
      "37/37 [==============================] - 0s 5ms/step - loss: 27795374.0000 - val_loss: 28329962.0000\n",
      "Epoch 92/300\n",
      "37/37 [==============================] - 0s 5ms/step - loss: 27568030.0000 - val_loss: 28112790.0000\n",
      "Epoch 93/300\n",
      "37/37 [==============================] - 0s 6ms/step - loss: 27347112.0000 - val_loss: 27897580.0000\n",
      "Epoch 94/300\n",
      "37/37 [==============================] - 0s 3ms/step - loss: 27151090.0000 - val_loss: 27696484.0000\n",
      "Epoch 95/300\n",
      "37/37 [==============================] - 0s 3ms/step - loss: 26945924.0000 - val_loss: 27503916.0000\n",
      "Epoch 96/300\n",
      "37/37 [==============================] - 0s 3ms/step - loss: 26821482.0000 - val_loss: 27388442.0000\n",
      "Epoch 97/300\n",
      "37/37 [==============================] - 0s 3ms/step - loss: 26599328.0000 - val_loss: 27123102.0000\n",
      "Epoch 98/300\n",
      "37/37 [==============================] - 0s 4ms/step - loss: 26401880.0000 - val_loss: 26984712.0000\n",
      "Epoch 99/300\n",
      "37/37 [==============================] - 0s 4ms/step - loss: 26212160.0000 - val_loss: 26765874.0000\n",
      "Epoch 100/300\n",
      "37/37 [==============================] - 0s 3ms/step - loss: 26003094.0000 - val_loss: 26566978.0000\n",
      "Epoch 101/300\n",
      "37/37 [==============================] - 0s 4ms/step - loss: 25862538.0000 - val_loss: 26457570.0000\n",
      "Epoch 102/300\n",
      "37/37 [==============================] - 0s 4ms/step - loss: 25651318.0000 - val_loss: 26203978.0000\n",
      "Epoch 103/300\n",
      "37/37 [==============================] - 0s 5ms/step - loss: 25444702.0000 - val_loss: 26024822.0000\n",
      "Epoch 104/300\n",
      "37/37 [==============================] - 0s 5ms/step - loss: 25248100.0000 - val_loss: 25872512.0000\n",
      "Epoch 105/300\n",
      "37/37 [==============================] - 0s 4ms/step - loss: 25070234.0000 - val_loss: 25673340.0000\n",
      "Epoch 106/300\n",
      "37/37 [==============================] - 0s 4ms/step - loss: 24877166.0000 - val_loss: 25491820.0000\n",
      "Epoch 107/300\n",
      "37/37 [==============================] - 0s 4ms/step - loss: 24696680.0000 - val_loss: 25321510.0000\n",
      "Epoch 108/300\n",
      "37/37 [==============================] - 0s 4ms/step - loss: 24506496.0000 - val_loss: 25159620.0000\n",
      "Epoch 109/300\n",
      "37/37 [==============================] - 0s 4ms/step - loss: 24361170.0000 - val_loss: 25002022.0000\n",
      "Epoch 110/300\n",
      "37/37 [==============================] - 0s 5ms/step - loss: 24168662.0000 - val_loss: 24844074.0000\n",
      "Epoch 111/300\n",
      "37/37 [==============================] - 0s 3ms/step - loss: 23986092.0000 - val_loss: 24669258.0000\n",
      "Epoch 112/300\n",
      "37/37 [==============================] - 0s 3ms/step - loss: 23814020.0000 - val_loss: 24518808.0000\n",
      "Epoch 113/300\n",
      "37/37 [==============================] - 0s 3ms/step - loss: 23646154.0000 - val_loss: 24370044.0000\n",
      "Epoch 114/300\n",
      "37/37 [==============================] - 0s 3ms/step - loss: 23482240.0000 - val_loss: 24223586.0000\n",
      "Epoch 115/300\n",
      "37/37 [==============================] - 0s 3ms/step - loss: 23335372.0000 - val_loss: 24101492.0000\n",
      "Epoch 116/300\n",
      "37/37 [==============================] - 0s 3ms/step - loss: 23176322.0000 - val_loss: 23987832.0000\n",
      "Epoch 117/300\n",
      "37/37 [==============================] - 0s 2ms/step - loss: 23048122.0000 - val_loss: 23829596.0000\n",
      "Epoch 118/300\n",
      "37/37 [==============================] - 0s 3ms/step - loss: 22912694.0000 - val_loss: 23729822.0000\n",
      "Epoch 119/300\n",
      "37/37 [==============================] - 0s 3ms/step - loss: 22805264.0000 - val_loss: 23609268.0000\n",
      "Epoch 120/300\n",
      "37/37 [==============================] - 0s 2ms/step - loss: 22676414.0000 - val_loss: 23608036.0000\n",
      "Epoch 121/300\n",
      "37/37 [==============================] - 0s 3ms/step - loss: 22598124.0000 - val_loss: 23425952.0000\n",
      "Epoch 122/300\n",
      "37/37 [==============================] - 0s 3ms/step - loss: 22437130.0000 - val_loss: 23343322.0000\n",
      "Epoch 123/300\n",
      "37/37 [==============================] - 0s 3ms/step - loss: 22346836.0000 - val_loss: 23234272.0000\n",
      "Epoch 124/300\n",
      "37/37 [==============================] - 0s 3ms/step - loss: 22250486.0000 - val_loss: 23206506.0000\n",
      "Epoch 125/300\n",
      "37/37 [==============================] - 0s 3ms/step - loss: 22140492.0000 - val_loss: 23202046.0000\n",
      "Epoch 126/300\n",
      "37/37 [==============================] - 0s 4ms/step - loss: 22097430.0000 - val_loss: 23112222.0000\n",
      "Epoch 127/300\n",
      "37/37 [==============================] - 0s 4ms/step - loss: 22017830.0000 - val_loss: 22958776.0000\n",
      "Epoch 128/300\n",
      "37/37 [==============================] - 0s 3ms/step - loss: 21942432.0000 - val_loss: 22895764.0000\n",
      "Epoch 129/300\n",
      "37/37 [==============================] - 0s 3ms/step - loss: 21850990.0000 - val_loss: 22861242.0000\n",
      "Epoch 130/300\n",
      "37/37 [==============================] - 0s 3ms/step - loss: 21806232.0000 - val_loss: 22819364.0000\n",
      "Epoch 131/300\n",
      "37/37 [==============================] - 0s 3ms/step - loss: 21763650.0000 - val_loss: 22746546.0000\n",
      "Epoch 132/300\n",
      "37/37 [==============================] - 0s 3ms/step - loss: 21675810.0000 - val_loss: 22698456.0000\n",
      "Epoch 133/300\n",
      "37/37 [==============================] - 0s 5ms/step - loss: 21626522.0000 - val_loss: 22644796.0000\n",
      "Epoch 134/300\n",
      "37/37 [==============================] - 0s 4ms/step - loss: 21583178.0000 - val_loss: 22659038.0000\n",
      "Epoch 135/300\n",
      "37/37 [==============================] - 0s 6ms/step - loss: 21533470.0000 - val_loss: 22595806.0000\n",
      "Epoch 136/300\n",
      "37/37 [==============================] - 0s 5ms/step - loss: 21462542.0000 - val_loss: 22575100.0000\n",
      "Epoch 137/300\n",
      "37/37 [==============================] - 0s 6ms/step - loss: 21449266.0000 - val_loss: 22498800.0000\n",
      "Epoch 138/300\n",
      "37/37 [==============================] - 0s 3ms/step - loss: 21395360.0000 - val_loss: 22498032.0000\n",
      "Epoch 139/300\n",
      "37/37 [==============================] - 0s 3ms/step - loss: 21357982.0000 - val_loss: 22435600.0000\n",
      "Epoch 140/300\n",
      "37/37 [==============================] - 0s 2ms/step - loss: 21287892.0000 - val_loss: 22409980.0000\n",
      "Epoch 141/300\n",
      "37/37 [==============================] - 0s 3ms/step - loss: 21245414.0000 - val_loss: 22393040.0000\n",
      "Epoch 142/300\n",
      "37/37 [==============================] - 0s 3ms/step - loss: 21217566.0000 - val_loss: 22362388.0000\n",
      "Epoch 143/300\n",
      "37/37 [==============================] - 0s 3ms/step - loss: 21193052.0000 - val_loss: 22361084.0000\n",
      "Epoch 144/300\n",
      "37/37 [==============================] - 0s 3ms/step - loss: 21162314.0000 - val_loss: 22305914.0000\n",
      "Epoch 145/300\n",
      "37/37 [==============================] - 0s 3ms/step - loss: 21131520.0000 - val_loss: 22288648.0000\n",
      "Epoch 146/300\n",
      "37/37 [==============================] - 0s 5ms/step - loss: 21127838.0000 - val_loss: 22261788.0000\n",
      "Epoch 147/300\n",
      "37/37 [==============================] - 0s 3ms/step - loss: 21061798.0000 - val_loss: 22240974.0000\n",
      "Epoch 148/300\n",
      "37/37 [==============================] - 0s 4ms/step - loss: 21034728.0000 - val_loss: 22243962.0000\n",
      "Epoch 149/300\n",
      "37/37 [==============================] - 0s 3ms/step - loss: 21044898.0000 - val_loss: 22205862.0000\n",
      "Epoch 150/300\n",
      "37/37 [==============================] - 0s 3ms/step - loss: 20988768.0000 - val_loss: 22241968.0000\n",
      "Epoch 151/300\n",
      "37/37 [==============================] - 0s 3ms/step - loss: 20973336.0000 - val_loss: 22196340.0000\n",
      "Epoch 152/300\n",
      "37/37 [==============================] - 0s 3ms/step - loss: 20940440.0000 - val_loss: 22196572.0000\n",
      "Epoch 153/300\n",
      "37/37 [==============================] - 0s 3ms/step - loss: 20921746.0000 - val_loss: 22249010.0000\n",
      "Epoch 154/300\n",
      "37/37 [==============================] - 0s 3ms/step - loss: 20906412.0000 - val_loss: 22141770.0000\n",
      "Epoch 155/300\n",
      "37/37 [==============================] - 0s 3ms/step - loss: 20884448.0000 - val_loss: 22138334.0000\n",
      "Epoch 156/300\n",
      "37/37 [==============================] - 0s 3ms/step - loss: 20854566.0000 - val_loss: 22097744.0000\n",
      "Epoch 157/300\n",
      "37/37 [==============================] - 0s 4ms/step - loss: 20833550.0000 - val_loss: 22207262.0000\n",
      "Epoch 158/300\n",
      "37/37 [==============================] - 0s 6ms/step - loss: 20921660.0000 - val_loss: 22074824.0000\n",
      "Epoch 159/300\n",
      "37/37 [==============================] - 0s 5ms/step - loss: 20778828.0000 - val_loss: 22055994.0000\n",
      "Epoch 160/300\n",
      "37/37 [==============================] - 0s 6ms/step - loss: 20781118.0000 - val_loss: 22060128.0000\n",
      "Epoch 161/300\n",
      "37/37 [==============================] - 0s 4ms/step - loss: 20751786.0000 - val_loss: 22030092.0000\n",
      "Epoch 162/300\n",
      "37/37 [==============================] - 0s 4ms/step - loss: 20853020.0000 - val_loss: 22056368.0000\n",
      "Epoch 163/300\n",
      "37/37 [==============================] - 0s 6ms/step - loss: 20727422.0000 - val_loss: 22013730.0000\n",
      "Epoch 164/300\n",
      "37/37 [==============================] - 0s 6ms/step - loss: 20707012.0000 - val_loss: 22025226.0000\n",
      "Epoch 165/300\n",
      "37/37 [==============================] - 0s 6ms/step - loss: 20687174.0000 - val_loss: 21984342.0000\n",
      "Epoch 166/300\n",
      "37/37 [==============================] - 0s 5ms/step - loss: 20679628.0000 - val_loss: 21974524.0000\n",
      "Epoch 167/300\n",
      "37/37 [==============================] - 0s 5ms/step - loss: 20657622.0000 - val_loss: 21967912.0000\n",
      "Epoch 168/300\n",
      "37/37 [==============================] - 0s 3ms/step - loss: 20640528.0000 - val_loss: 21970540.0000\n",
      "Epoch 169/300\n",
      "37/37 [==============================] - 0s 4ms/step - loss: 20648774.0000 - val_loss: 21948338.0000\n",
      "Epoch 170/300\n",
      "37/37 [==============================] - 0s 4ms/step - loss: 20608084.0000 - val_loss: 21942398.0000\n",
      "Epoch 171/300\n",
      "37/37 [==============================] - 0s 6ms/step - loss: 20588376.0000 - val_loss: 21963664.0000\n",
      "Epoch 172/300\n",
      "37/37 [==============================] - 0s 4ms/step - loss: 20593754.0000 - val_loss: 21943102.0000\n",
      "Epoch 173/300\n",
      "37/37 [==============================] - 0s 6ms/step - loss: 20574610.0000 - val_loss: 21911266.0000\n",
      "Epoch 174/300\n",
      "37/37 [==============================] - 0s 5ms/step - loss: 20554454.0000 - val_loss: 21904022.0000\n",
      "Epoch 175/300\n",
      "37/37 [==============================] - 0s 5ms/step - loss: 20537980.0000 - val_loss: 21945164.0000\n",
      "Epoch 176/300\n",
      "37/37 [==============================] - 0s 3ms/step - loss: 20527976.0000 - val_loss: 21886756.0000\n",
      "Epoch 177/300\n",
      "37/37 [==============================] - 0s 4ms/step - loss: 20525042.0000 - val_loss: 21890254.0000\n",
      "Epoch 178/300\n",
      "37/37 [==============================] - 0s 4ms/step - loss: 20502912.0000 - val_loss: 21960686.0000\n",
      "Epoch 179/300\n",
      "37/37 [==============================] - 0s 4ms/step - loss: 20509050.0000 - val_loss: 21877912.0000\n",
      "Epoch 180/300\n",
      "37/37 [==============================] - 0s 4ms/step - loss: 20498530.0000 - val_loss: 21860130.0000\n",
      "Epoch 181/300\n",
      "37/37 [==============================] - 0s 6ms/step - loss: 20463436.0000 - val_loss: 21845832.0000\n",
      "Epoch 182/300\n",
      "37/37 [==============================] - 0s 4ms/step - loss: 20450450.0000 - val_loss: 21841082.0000\n",
      "Epoch 183/300\n",
      "37/37 [==============================] - 0s 5ms/step - loss: 20529126.0000 - val_loss: 21859572.0000\n",
      "Epoch 184/300\n",
      "37/37 [==============================] - 0s 4ms/step - loss: 20429052.0000 - val_loss: 21832702.0000\n",
      "Epoch 185/300\n",
      "37/37 [==============================] - 0s 5ms/step - loss: 20442790.0000 - val_loss: 21817266.0000\n",
      "Epoch 186/300\n",
      "37/37 [==============================] - 0s 5ms/step - loss: 20407550.0000 - val_loss: 21807236.0000\n",
      "Epoch 187/300\n",
      "37/37 [==============================] - 0s 4ms/step - loss: 20421144.0000 - val_loss: 21799434.0000\n",
      "Epoch 188/300\n",
      "37/37 [==============================] - 0s 4ms/step - loss: 20398274.0000 - val_loss: 21786818.0000\n",
      "Epoch 189/300\n",
      "37/37 [==============================] - 0s 3ms/step - loss: 20392080.0000 - val_loss: 21795914.0000\n",
      "Epoch 190/300\n",
      "37/37 [==============================] - 0s 4ms/step - loss: 20393788.0000 - val_loss: 21775312.0000\n",
      "Epoch 191/300\n",
      "37/37 [==============================] - 0s 5ms/step - loss: 20380072.0000 - val_loss: 21762176.0000\n",
      "Epoch 192/300\n",
      "37/37 [==============================] - 0s 6ms/step - loss: 20334786.0000 - val_loss: 21817764.0000\n",
      "Epoch 193/300\n",
      "37/37 [==============================] - 0s 3ms/step - loss: 20355614.0000 - val_loss: 21756824.0000\n",
      "Epoch 194/300\n",
      "37/37 [==============================] - 0s 4ms/step - loss: 20337254.0000 - val_loss: 21745768.0000\n",
      "Epoch 195/300\n",
      "37/37 [==============================] - 0s 5ms/step - loss: 20325550.0000 - val_loss: 21761560.0000\n",
      "Epoch 196/300\n",
      "37/37 [==============================] - 0s 5ms/step - loss: 20315566.0000 - val_loss: 21725610.0000\n",
      "Epoch 197/300\n",
      "37/37 [==============================] - 0s 4ms/step - loss: 20315082.0000 - val_loss: 21723662.0000\n",
      "Epoch 198/300\n",
      "37/37 [==============================] - 0s 4ms/step - loss: 20279018.0000 - val_loss: 21713498.0000\n",
      "Epoch 199/300\n",
      "37/37 [==============================] - 0s 4ms/step - loss: 20278984.0000 - val_loss: 21715548.0000\n",
      "Epoch 200/300\n",
      "37/37 [==============================] - 0s 6ms/step - loss: 20301186.0000 - val_loss: 21697568.0000\n",
      "Epoch 201/300\n",
      "37/37 [==============================] - 0s 6ms/step - loss: 20238230.0000 - val_loss: 21754682.0000\n",
      "Epoch 202/300\n",
      "37/37 [==============================] - 0s 4ms/step - loss: 20248084.0000 - val_loss: 21703196.0000\n",
      "Epoch 203/300\n",
      "37/37 [==============================] - 0s 4ms/step - loss: 20254808.0000 - val_loss: 21674110.0000\n",
      "Epoch 204/300\n",
      "37/37 [==============================] - 0s 3ms/step - loss: 20255826.0000 - val_loss: 21661202.0000\n",
      "Epoch 205/300\n",
      "37/37 [==============================] - 0s 3ms/step - loss: 20217040.0000 - val_loss: 21671300.0000\n",
      "Epoch 206/300\n",
      "37/37 [==============================] - 0s 3ms/step - loss: 20232344.0000 - val_loss: 21646270.0000\n",
      "Epoch 207/300\n",
      "37/37 [==============================] - 0s 4ms/step - loss: 20173968.0000 - val_loss: 21641754.0000\n",
      "Epoch 208/300\n",
      "37/37 [==============================] - 0s 6ms/step - loss: 20188396.0000 - val_loss: 21626050.0000\n",
      "Epoch 209/300\n",
      "37/37 [==============================] - 0s 5ms/step - loss: 20163060.0000 - val_loss: 21611390.0000\n",
      "Epoch 210/300\n",
      "37/37 [==============================] - 0s 3ms/step - loss: 20168158.0000 - val_loss: 21624734.0000\n",
      "Epoch 211/300\n",
      "37/37 [==============================] - 0s 3ms/step - loss: 20159426.0000 - val_loss: 21776682.0000\n",
      "Epoch 212/300\n",
      "37/37 [==============================] - 0s 3ms/step - loss: 20207832.0000 - val_loss: 21618220.0000\n",
      "Epoch 213/300\n",
      "37/37 [==============================] - 0s 3ms/step - loss: 20229670.0000 - val_loss: 21578964.0000\n",
      "Epoch 214/300\n",
      "37/37 [==============================] - 0s 3ms/step - loss: 20136502.0000 - val_loss: 21589992.0000\n",
      "Epoch 215/300\n",
      "37/37 [==============================] - 0s 3ms/step - loss: 20123742.0000 - val_loss: 21572964.0000\n",
      "Epoch 216/300\n",
      "37/37 [==============================] - 0s 3ms/step - loss: 20095504.0000 - val_loss: 21619668.0000\n",
      "Epoch 217/300\n",
      "37/37 [==============================] - 0s 5ms/step - loss: 20105216.0000 - val_loss: 21573792.0000\n",
      "Epoch 218/300\n",
      "37/37 [==============================] - 0s 4ms/step - loss: 20078772.0000 - val_loss: 21555440.0000\n",
      "Epoch 219/300\n",
      "37/37 [==============================] - 0s 6ms/step - loss: 20067954.0000 - val_loss: 21555466.0000\n",
      "Epoch 220/300\n",
      "37/37 [==============================] - 0s 5ms/step - loss: 20093250.0000 - val_loss: 21544828.0000\n",
      "Epoch 221/300\n",
      "37/37 [==============================] - 0s 5ms/step - loss: 20078244.0000 - val_loss: 21585468.0000\n",
      "Epoch 222/300\n",
      "37/37 [==============================] - 0s 3ms/step - loss: 20158708.0000 - val_loss: 21675066.0000\n",
      "Epoch 223/300\n",
      "37/37 [==============================] - 0s 3ms/step - loss: 20045752.0000 - val_loss: 21540830.0000\n",
      "Epoch 224/300\n",
      "37/37 [==============================] - 0s 3ms/step - loss: 20093484.0000 - val_loss: 21494990.0000\n",
      "Epoch 225/300\n",
      "37/37 [==============================] - 0s 3ms/step - loss: 20029146.0000 - val_loss: 21506296.0000\n",
      "Epoch 226/300\n",
      "37/37 [==============================] - 0s 2ms/step - loss: 20031370.0000 - val_loss: 21478938.0000\n",
      "Epoch 227/300\n",
      "37/37 [==============================] - 0s 3ms/step - loss: 20028492.0000 - val_loss: 21485844.0000\n",
      "Epoch 228/300\n",
      "37/37 [==============================] - 0s 2ms/step - loss: 19991832.0000 - val_loss: 21484472.0000\n",
      "Epoch 229/300\n",
      "37/37 [==============================] - 0s 3ms/step - loss: 20002336.0000 - val_loss: 21464916.0000\n",
      "Epoch 230/300\n",
      "37/37 [==============================] - 0s 3ms/step - loss: 19988564.0000 - val_loss: 21474138.0000\n",
      "Epoch 231/300\n",
      "37/37 [==============================] - 0s 4ms/step - loss: 19993020.0000 - val_loss: 21475586.0000\n",
      "Epoch 232/300\n",
      "37/37 [==============================] - 0s 6ms/step - loss: 20006246.0000 - val_loss: 21475464.0000\n",
      "Epoch 233/300\n",
      "37/37 [==============================] - 0s 6ms/step - loss: 19962616.0000 - val_loss: 21439658.0000\n",
      "Epoch 234/300\n",
      "37/37 [==============================] - 0s 6ms/step - loss: 19999268.0000 - val_loss: 21460452.0000\n",
      "Epoch 235/300\n",
      "37/37 [==============================] - 0s 6ms/step - loss: 19943378.0000 - val_loss: 21538616.0000\n",
      "Epoch 236/300\n",
      "37/37 [==============================] - 0s 4ms/step - loss: 19955942.0000 - val_loss: 21507270.0000\n",
      "Epoch 237/300\n",
      "37/37 [==============================] - 0s 4ms/step - loss: 19982206.0000 - val_loss: 21451910.0000\n",
      "Epoch 238/300\n",
      "37/37 [==============================] - 0s 7ms/step - loss: 19925756.0000 - val_loss: 21409270.0000\n",
      "Epoch 239/300\n",
      "37/37 [==============================] - 0s 4ms/step - loss: 19915770.0000 - val_loss: 21498148.0000\n",
      "Epoch 240/300\n",
      "37/37 [==============================] - 0s 6ms/step - loss: 19924812.0000 - val_loss: 21418776.0000\n",
      "Epoch 241/300\n",
      "37/37 [==============================] - 0s 5ms/step - loss: 19918388.0000 - val_loss: 21507590.0000\n",
      "Epoch 242/300\n",
      "37/37 [==============================] - 0s 4ms/step - loss: 19929570.0000 - val_loss: 21383314.0000\n",
      "Epoch 243/300\n",
      "37/37 [==============================] - 0s 4ms/step - loss: 19900806.0000 - val_loss: 21399398.0000\n",
      "Epoch 244/300\n",
      "37/37 [==============================] - 0s 5ms/step - loss: 19891376.0000 - val_loss: 21379982.0000\n",
      "Epoch 245/300\n",
      "37/37 [==============================] - 0s 5ms/step - loss: 19890148.0000 - val_loss: 21371030.0000\n",
      "Epoch 246/300\n",
      "37/37 [==============================] - 0s 5ms/step - loss: 19881986.0000 - val_loss: 21359130.0000\n",
      "Epoch 247/300\n",
      "37/37 [==============================] - 0s 7ms/step - loss: 19873144.0000 - val_loss: 21359162.0000\n",
      "Epoch 248/300\n",
      "37/37 [==============================] - 0s 3ms/step - loss: 19858764.0000 - val_loss: 21362580.0000\n",
      "Epoch 249/300\n",
      "37/37 [==============================] - 0s 4ms/step - loss: 19846586.0000 - val_loss: 21373500.0000\n",
      "Epoch 250/300\n",
      "37/37 [==============================] - 0s 6ms/step - loss: 19864246.0000 - val_loss: 21384070.0000\n",
      "Epoch 251/300\n",
      "37/37 [==============================] - 0s 6ms/step - loss: 19834556.0000 - val_loss: 21349088.0000\n",
      "Epoch 252/300\n",
      "37/37 [==============================] - 0s 4ms/step - loss: 19837662.0000 - val_loss: 21438832.0000\n",
      "Epoch 253/300\n",
      "37/37 [==============================] - 0s 4ms/step - loss: 19866710.0000 - val_loss: 21316370.0000\n",
      "Epoch 254/300\n",
      "37/37 [==============================] - 0s 3ms/step - loss: 19831834.0000 - val_loss: 21321418.0000\n",
      "Epoch 255/300\n",
      "37/37 [==============================] - 0s 2ms/step - loss: 19865060.0000 - val_loss: 21318004.0000\n",
      "Epoch 256/300\n",
      "37/37 [==============================] - 0s 3ms/step - loss: 19855606.0000 - val_loss: 21340012.0000\n",
      "Epoch 257/300\n",
      "37/37 [==============================] - 0s 3ms/step - loss: 19845002.0000 - val_loss: 21381744.0000\n",
      "Epoch 258/300\n",
      "37/37 [==============================] - 0s 3ms/step - loss: 19802710.0000 - val_loss: 21316498.0000\n",
      "Epoch 259/300\n",
      "37/37 [==============================] - 0s 3ms/step - loss: 19820708.0000 - val_loss: 21311176.0000\n",
      "Epoch 260/300\n",
      "37/37 [==============================] - 0s 4ms/step - loss: 19789796.0000 - val_loss: 21448204.0000\n",
      "Epoch 261/300\n",
      "37/37 [==============================] - 0s 5ms/step - loss: 19817876.0000 - val_loss: 21267420.0000\n",
      "Epoch 262/300\n",
      "37/37 [==============================] - 0s 4ms/step - loss: 19804530.0000 - val_loss: 21261762.0000\n",
      "Epoch 263/300\n",
      "37/37 [==============================] - 0s 5ms/step - loss: 19867172.0000 - val_loss: 21283340.0000\n",
      "Epoch 264/300\n",
      "37/37 [==============================] - 0s 4ms/step - loss: 19801776.0000 - val_loss: 21264560.0000\n",
      "Epoch 265/300\n",
      "37/37 [==============================] - 0s 6ms/step - loss: 19738770.0000 - val_loss: 21264556.0000\n",
      "Epoch 266/300\n",
      "37/37 [==============================] - 0s 4ms/step - loss: 19733462.0000 - val_loss: 21292474.0000\n",
      "Epoch 267/300\n",
      "37/37 [==============================] - 0s 4ms/step - loss: 19751426.0000 - val_loss: 21238344.0000\n",
      "Epoch 268/300\n",
      "37/37 [==============================] - 0s 6ms/step - loss: 19727496.0000 - val_loss: 21240080.0000\n",
      "Epoch 269/300\n",
      "37/37 [==============================] - 0s 4ms/step - loss: 19728596.0000 - val_loss: 21223574.0000\n",
      "Epoch 270/300\n",
      "37/37 [==============================] - 0s 4ms/step - loss: 19715576.0000 - val_loss: 21222998.0000\n",
      "Epoch 271/300\n",
      "37/37 [==============================] - 0s 6ms/step - loss: 19721008.0000 - val_loss: 21216752.0000\n",
      "Epoch 272/300\n",
      "37/37 [==============================] - 0s 5ms/step - loss: 19689180.0000 - val_loss: 21245600.0000\n",
      "Epoch 273/300\n",
      "37/37 [==============================] - 0s 4ms/step - loss: 19730600.0000 - val_loss: 21199912.0000\n",
      "Epoch 274/300\n",
      "37/37 [==============================] - 0s 5ms/step - loss: 19742948.0000 - val_loss: 21289944.0000\n",
      "Epoch 275/300\n",
      "37/37 [==============================] - 0s 5ms/step - loss: 19711368.0000 - val_loss: 21190272.0000\n",
      "Epoch 276/300\n",
      "37/37 [==============================] - 0s 4ms/step - loss: 19698152.0000 - val_loss: 21240966.0000\n",
      "Epoch 277/300\n",
      "37/37 [==============================] - 0s 4ms/step - loss: 19673916.0000 - val_loss: 21178106.0000\n",
      "Epoch 278/300\n",
      "37/37 [==============================] - 0s 5ms/step - loss: 19695054.0000 - val_loss: 21188948.0000\n",
      "Epoch 279/300\n",
      "37/37 [==============================] - 0s 4ms/step - loss: 19668452.0000 - val_loss: 21174564.0000\n",
      "Epoch 280/300\n",
      "37/37 [==============================] - 0s 4ms/step - loss: 19655720.0000 - val_loss: 21164406.0000\n",
      "Epoch 281/300\n",
      "37/37 [==============================] - 0s 6ms/step - loss: 19659512.0000 - val_loss: 21159770.0000\n",
      "Epoch 282/300\n",
      "37/37 [==============================] - 0s 5ms/step - loss: 19655706.0000 - val_loss: 21170734.0000\n",
      "Epoch 283/300\n",
      "37/37 [==============================] - 0s 3ms/step - loss: 19649832.0000 - val_loss: 21148254.0000\n",
      "Epoch 284/300\n",
      "37/37 [==============================] - 0s 3ms/step - loss: 19661334.0000 - val_loss: 21159632.0000\n",
      "Epoch 285/300\n",
      "37/37 [==============================] - 0s 3ms/step - loss: 19664742.0000 - val_loss: 21164048.0000\n",
      "Epoch 286/300\n",
      "37/37 [==============================] - 0s 3ms/step - loss: 19647130.0000 - val_loss: 21137298.0000\n",
      "Epoch 287/300\n",
      "37/37 [==============================] - 0s 4ms/step - loss: 19641360.0000 - val_loss: 21143086.0000\n",
      "Epoch 288/300\n",
      "37/37 [==============================] - 0s 4ms/step - loss: 19621820.0000 - val_loss: 21126394.0000\n",
      "Epoch 289/300\n",
      "37/37 [==============================] - 0s 4ms/step - loss: 19628670.0000 - val_loss: 21118902.0000\n",
      "Epoch 290/300\n",
      "37/37 [==============================] - 0s 3ms/step - loss: 19595476.0000 - val_loss: 21127240.0000\n",
      "Epoch 291/300\n",
      "37/37 [==============================] - 0s 4ms/step - loss: 19611786.0000 - val_loss: 21111542.0000\n",
      "Epoch 292/300\n",
      "37/37 [==============================] - 0s 5ms/step - loss: 19632292.0000 - val_loss: 21103634.0000\n",
      "Epoch 293/300\n",
      "37/37 [==============================] - 0s 4ms/step - loss: 19630830.0000 - val_loss: 21101532.0000\n",
      "Epoch 294/300\n",
      "37/37 [==============================] - 0s 5ms/step - loss: 19609322.0000 - val_loss: 21100544.0000\n",
      "Epoch 295/300\n",
      "37/37 [==============================] - 0s 6ms/step - loss: 19605324.0000 - val_loss: 21129724.0000\n",
      "Epoch 296/300\n",
      "37/37 [==============================] - 0s 5ms/step - loss: 19576832.0000 - val_loss: 21096852.0000\n",
      "Epoch 297/300\n",
      "37/37 [==============================] - 0s 4ms/step - loss: 19620858.0000 - val_loss: 21072994.0000\n",
      "Epoch 298/300\n",
      "37/37 [==============================] - 0s 6ms/step - loss: 19588474.0000 - val_loss: 21068424.0000\n",
      "Epoch 299/300\n",
      "37/37 [==============================] - 0s 4ms/step - loss: 19550504.0000 - val_loss: 21070246.0000\n",
      "Epoch 300/300\n",
      "37/37 [==============================] - 0s 4ms/step - loss: 19558748.0000 - val_loss: 21061464.0000\n"
     ]
    },
    {
     "data": {
      "text/plain": [
       "<keras.callbacks.History at 0x2516f58dde0>"
      ]
     },
     "execution_count": 27,
     "metadata": {},
     "output_type": "execute_result"
    }
   ],
   "source": [
    "model.fit(x= x_train, y= y_train,validation_data=(x_test,y_test), batch_size=250, epochs=300)"
   ]
  },
  {
   "cell_type": "code",
   "execution_count": 28,
   "metadata": {},
   "outputs": [
    {
     "data": {
      "text/html": [
       "<div>\n",
       "<style scoped>\n",
       "    .dataframe tbody tr th:only-of-type {\n",
       "        vertical-align: middle;\n",
       "    }\n",
       "\n",
       "    .dataframe tbody tr th {\n",
       "        vertical-align: top;\n",
       "    }\n",
       "\n",
       "    .dataframe thead th {\n",
       "        text-align: right;\n",
       "    }\n",
       "</style>\n",
       "<table border=\"1\" class=\"dataframe\">\n",
       "  <thead>\n",
       "    <tr style=\"text-align: right;\">\n",
       "      <th></th>\n",
       "      <th>loss</th>\n",
       "      <th>val_loss</th>\n",
       "    </tr>\n",
       "  </thead>\n",
       "  <tbody>\n",
       "    <tr>\n",
       "      <th>0</th>\n",
       "      <td>672134144.0</td>\n",
       "      <td>688076032.0</td>\n",
       "    </tr>\n",
       "    <tr>\n",
       "      <th>1</th>\n",
       "      <td>672062656.0</td>\n",
       "      <td>687944000.0</td>\n",
       "    </tr>\n",
       "    <tr>\n",
       "      <th>2</th>\n",
       "      <td>671804672.0</td>\n",
       "      <td>687479040.0</td>\n",
       "    </tr>\n",
       "    <tr>\n",
       "      <th>3</th>\n",
       "      <td>670970112.0</td>\n",
       "      <td>686040768.0</td>\n",
       "    </tr>\n",
       "    <tr>\n",
       "      <th>4</th>\n",
       "      <td>668564992.0</td>\n",
       "      <td>682202752.0</td>\n",
       "    </tr>\n",
       "  </tbody>\n",
       "</table>\n",
       "</div>"
      ],
      "text/plain": [
       "          loss     val_loss\n",
       "0  672134144.0  688076032.0\n",
       "1  672062656.0  687944000.0\n",
       "2  671804672.0  687479040.0\n",
       "3  670970112.0  686040768.0\n",
       "4  668564992.0  682202752.0"
      ]
     },
     "execution_count": 28,
     "metadata": {},
     "output_type": "execute_result"
    }
   ],
   "source": [
    "kayipVerisi = pd.DataFrame(model.history.history)\n",
    "kayipVerisi.head()"
   ]
  },
  {
   "cell_type": "code",
   "execution_count": 29,
   "metadata": {},
   "outputs": [
    {
     "data": {
      "text/plain": [
       "<AxesSubplot: >"
      ]
     },
     "execution_count": 29,
     "metadata": {},
     "output_type": "execute_result"
    },
    {
     "data": {
      "image/png": "[encoded data removed]",
      "text/plain": [
       "<Figure size 640x480 with 1 Axes>"
      ]
     },
     "metadata": {},
     "output_type": "display_data"
    }
   ],
   "source": [
    "kayipVerisi.plot()"
   ]
  },
  {
   "cell_type": "code",
   "execution_count": 30,
   "metadata": {},
   "outputs": [
    {
     "name": "stdout",
     "output_type": "stream",
     "text": [
      "122/122 [==============================] - 0s 2ms/step\n"
     ]
    }
   ],
   "source": [
    "tahminDizisi = model.predict(x_test)"
   ]
  },
  {
   "cell_type": "code",
   "execution_count": 31,
   "metadata": {},
   "outputs": [],
   "source": [
    "from sklearn.metrics import mean_squared_error, mean_absolute_error"
   ]
  },
  {
   "cell_type": "code",
   "execution_count": 32,
   "metadata": {},
   "outputs": [
    {
     "data": {
      "text/plain": [
       "3238.1264043254428"
      ]
     },
     "execution_count": 32,
     "metadata": {},
     "output_type": "execute_result"
    }
   ],
   "source": [
    "mean_absolute_error(y_test, tahminDizisi)"
   ]
  },
  {
   "cell_type": "code",
   "execution_count": 33,
   "metadata": {},
   "outputs": [
    {
     "data": {
      "text/html": [
       "<div>\n",
       "<style scoped>\n",
       "    .dataframe tbody tr th:only-of-type {\n",
       "        vertical-align: middle;\n",
       "    }\n",
       "\n",
       "    .dataframe tbody tr th {\n",
       "        vertical-align: top;\n",
       "    }\n",
       "\n",
       "    .dataframe thead th {\n",
       "        text-align: right;\n",
       "    }\n",
       "</style>\n",
       "<table border=\"1\" class=\"dataframe\">\n",
       "  <thead>\n",
       "    <tr style=\"text-align: right;\">\n",
       "      <th></th>\n",
       "      <th>year</th>\n",
       "      <th>price</th>\n",
       "      <th>mileage</th>\n",
       "      <th>tax</th>\n",
       "      <th>mpg</th>\n",
       "      <th>engineSize</th>\n",
       "    </tr>\n",
       "  </thead>\n",
       "  <tbody>\n",
       "    <tr>\n",
       "      <th>count</th>\n",
       "      <td>12987.000000</td>\n",
       "      <td>12987.000000</td>\n",
       "      <td>12987.000000</td>\n",
       "      <td>12987.000000</td>\n",
       "      <td>12987.000000</td>\n",
       "      <td>12987.000000</td>\n",
       "    </tr>\n",
       "    <tr>\n",
       "      <th>mean</th>\n",
       "      <td>2017.285516</td>\n",
       "      <td>24074.855779</td>\n",
       "      <td>22133.367367</td>\n",
       "      <td>129.676215</td>\n",
       "      <td>55.438392</td>\n",
       "      <td>2.051059</td>\n",
       "    </tr>\n",
       "    <tr>\n",
       "      <th>std</th>\n",
       "      <td>2.189633</td>\n",
       "      <td>9866.601115</td>\n",
       "      <td>21197.472376</td>\n",
       "      <td>65.167429</td>\n",
       "      <td>15.025902</td>\n",
       "      <td>0.532313</td>\n",
       "    </tr>\n",
       "    <tr>\n",
       "      <th>min</th>\n",
       "      <td>1997.000000</td>\n",
       "      <td>650.000000</td>\n",
       "      <td>1.000000</td>\n",
       "      <td>0.000000</td>\n",
       "      <td>1.100000</td>\n",
       "      <td>0.000000</td>\n",
       "    </tr>\n",
       "    <tr>\n",
       "      <th>25%</th>\n",
       "      <td>2016.000000</td>\n",
       "      <td>17355.000000</td>\n",
       "      <td>6320.000000</td>\n",
       "      <td>125.000000</td>\n",
       "      <td>45.600000</td>\n",
       "      <td>1.700000</td>\n",
       "    </tr>\n",
       "    <tr>\n",
       "      <th>50%</th>\n",
       "      <td>2018.000000</td>\n",
       "      <td>22299.000000</td>\n",
       "      <td>15371.000000</td>\n",
       "      <td>145.000000</td>\n",
       "      <td>56.500000</td>\n",
       "      <td>2.000000</td>\n",
       "    </tr>\n",
       "    <tr>\n",
       "      <th>75%</th>\n",
       "      <td>2019.000000</td>\n",
       "      <td>28706.000000</td>\n",
       "      <td>31986.500000</td>\n",
       "      <td>145.000000</td>\n",
       "      <td>64.200000</td>\n",
       "      <td>2.100000</td>\n",
       "    </tr>\n",
       "    <tr>\n",
       "      <th>max</th>\n",
       "      <td>2020.000000</td>\n",
       "      <td>65990.000000</td>\n",
       "      <td>259000.000000</td>\n",
       "      <td>580.000000</td>\n",
       "      <td>217.300000</td>\n",
       "      <td>6.200000</td>\n",
       "    </tr>\n",
       "  </tbody>\n",
       "</table>\n",
       "</div>"
      ],
      "text/plain": [
       "               year         price        mileage           tax           mpg  \\\n",
       "count  12987.000000  12987.000000   12987.000000  12987.000000  12987.000000   \n",
       "mean    2017.285516  24074.855779   22133.367367    129.676215     55.438392   \n",
       "std        2.189633   9866.601115   21197.472376     65.167429     15.025902   \n",
       "min     1997.000000    650.000000       1.000000      0.000000      1.100000   \n",
       "25%     2016.000000  17355.000000    6320.000000    125.000000     45.600000   \n",
       "50%     2018.000000  22299.000000   15371.000000    145.000000     56.500000   \n",
       "75%     2019.000000  28706.000000   31986.500000    145.000000     64.200000   \n",
       "max     2020.000000  65990.000000  259000.000000    580.000000    217.300000   \n",
       "\n",
       "         engineSize  \n",
       "count  12987.000000  \n",
       "mean       2.051059  \n",
       "std        0.532313  \n",
       "min        0.000000  \n",
       "25%        1.700000  \n",
       "50%        2.000000  \n",
       "75%        2.100000  \n",
       "max        6.200000  "
      ]
     },
     "execution_count": 33,
     "metadata": {},
     "output_type": "execute_result"
    }
   ],
   "source": [
    "yeniDataFrame.describe()"
   ]
  },
  {
   "attachments": {},
   "cell_type": "markdown",
   "metadata": {},
   "source": [
    "24074 - 3184"
   ]
  },
  {
   "cell_type": "code",
   "execution_count": 34,
   "metadata": {},
   "outputs": [
    {
     "data": {
      "text/plain": [
       "[<matplotlib.lines.Line2D at 0x25171a04fa0>]"
      ]
     },
     "execution_count": 34,
     "metadata": {},
     "output_type": "execute_result"
    },
    {
     "data": {
      "image/png": "[encoded data removed]",
      "text/plain": [
       "<Figure size 640x480 with 1 Axes>"
      ]
     },
     "metadata": {},
     "output_type": "display_data"
    }
   ],
   "source": [
    "plt.scatter(y_test, tahminDizisi)\n",
    "plt.plot(y_test, y_test, \"g-*\")"
   ]
  },
  {
   "cell_type": "code",
   "execution_count": 35,
   "metadata": {},
   "outputs": [
    {
     "data": {
      "text/plain": [
       "year           2020.0\n",
       "price         65980.0\n",
       "mileage        3999.0\n",
       "tax             145.0\n",
       "mpg              28.0\n",
       "engineSize        4.0\n",
       "Name: 3191, dtype: float64"
      ]
     },
     "execution_count": 35,
     "metadata": {},
     "output_type": "execute_result"
    }
   ],
   "source": [
    "yeniDataFrame.iloc[2]"
   ]
  },
  {
   "cell_type": "code",
   "execution_count": 36,
   "metadata": {},
   "outputs": [],
   "source": [
    "yeniArabaSeries = yeniDataFrame.drop(\"price\", axis=1).iloc[2]"
   ]
  },
  {
   "cell_type": "code",
   "execution_count": 37,
   "metadata": {},
   "outputs": [],
   "source": [
    "yeniArabaSeries = scaler.transform(yeniArabaSeries.values.reshape(-1,5))"
   ]
  },
  {
   "cell_type": "code",
   "execution_count": 38,
   "metadata": {},
   "outputs": [
    {
     "name": "stdout",
     "output_type": "stream",
     "text": [
      "1/1 [==============================] - 0s 41ms/step\n"
     ]
    },
    {
     "data": {
      "text/plain": [
       "array([[62809.582]], dtype=float32)"
      ]
     },
     "execution_count": 38,
     "metadata": {},
     "output_type": "execute_result"
    }
   ],
   "source": [
    "model.predict(yeniArabaSeries)"
   ]
  },
  {
   "attachments": {},
   "cell_type": "markdown",
   "metadata": {},
   "source": [
    "SON"
   ]
  }
 ],
 "metadata": {
  "kernelspec": {
   "display_name": "Python 3",
   "language": "python",
   "name": "python3"
  },
  "language_info": {
   "codemirror_mode": {
    "name": "ipython",
    "version": 3
   },
   "file_extension": ".py",
   "mimetype": "text/x-python",
   "name": "python",
   "nbconvert_exporter": "python",
   "pygments_lexer": "ipython3",
   "version": "3.10.8"
  },
  "orig_nbformat": 4,
  "vscode": {
   "interpreter": {
    "hash": "26de051ba29f2982a8de78e945f0abaf191376122a1563185a90213a26c5da77"
   }
  }
 },
 "nbformat": 4,
 "nbformat_minor": 2
}
