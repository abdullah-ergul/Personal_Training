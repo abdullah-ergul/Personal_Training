{
 "cells": [
  {
   "cell_type": "code",
   "execution_count": 9,
   "metadata": {},
   "outputs": [],
   "source": [
    "import pandas as pd\n",
    "\n",
    "dictionary= {\"NAME\":[\"ali\",\"veli\",\"kenan\",\"hilal\",\"ayse\",\"evren\"],\n",
    "             \"AGE\":[15,16,17,33,45,66],\n",
    "             \"WAGE\":[100,150,240,350,110,220]}\n",
    "\n",
    "dataFrame1= pd.DataFrame(dictionary)"
   ]
  },
  {
   "cell_type": "code",
   "execution_count": 10,
   "metadata": {},
   "outputs": [
    {
     "name": "stdout",
     "output_type": "stream",
     "text": [
      "    NAME  AGE  WAGE  newFeature Wage_Level\n",
      "0    ali   15   100          -1        low\n",
      "1   veli   16   150          -2        low\n",
      "2  kenan   17   240          -3       high\n",
      "3  hilal   33   350          -4       high\n",
      "4   ayse   45   110          -5        low\n",
      "5  evren   66   220          -6       high \n",
      "\n"
     ]
    }
   ],
   "source": [
    "dataFrame1[\"newFeature\"]= [-1, -2, -3, -4, -5, -6]\n",
    "\n",
    "mean_WAGE = dataFrame1.WAGE.mean()\n",
    "dataFrame1[\"Wage_Level\"] = [\"low\" if mean_WAGE > each else \"high\" for each in dataFrame1.WAGE]\n",
    "\n",
    "print(dataFrame1.loc[:], \"\\n\")"
   ]
  },
  {
   "cell_type": "code",
   "execution_count": 11,
   "metadata": {},
   "outputs": [
    {
     "name": "stdout",
     "output_type": "stream",
     "text": [
      "    NAME  AGE  WAGE Wage_Level\n",
      "0    ali   15   100        low\n",
      "1   veli   16   150        low\n",
      "2  kenan   17   240       high\n",
      "3  hilal   33   350       high\n",
      "4   ayse   45   110        low\n",
      "5  evren   66   220       high \n",
      "\n"
     ]
    }
   ],
   "source": [
    "dataFrame1.drop([\"newFeature\"], axis= 1, inplace= True)\n",
    "\n",
    "print(dataFrame1.loc[:], \"\\n\")"
   ]
  },
  {
   "cell_type": "code",
   "execution_count": 12,
   "metadata": {},
   "outputs": [
    {
     "name": "stdout",
     "output_type": "stream",
     "text": [
      "    NAME  AGE  WAGE Wage_Level\n",
      "0    ali   15   100        low\n",
      "1   veli   16   150        low\n",
      "4   ayse   45   110        low\n",
      "5  evren   66   220       high \n",
      "\n"
     ]
    }
   ],
   "source": [
    "# vertical\n",
    "data1 = dataFrame1.head(2)\n",
    "data2 = dataFrame1.tail(2)\n",
    "data_v_concat = pd.concat([data1, data2], axis= 0)\n",
    "\n",
    "print(data_v_concat.loc[:], \"\\n\")"
   ]
  },
  {
   "cell_type": "code",
   "execution_count": 13,
   "metadata": {},
   "outputs": [
    {
     "name": "stdout",
     "output_type": "stream",
     "text": [
      "   WAGE  AGE\n",
      "0   100   15\n",
      "1   150   16\n",
      "2   240   17\n",
      "3   350   33\n",
      "4   110   45\n",
      "5   220   66 \n",
      "\n"
     ]
    }
   ],
   "source": [
    "# horizontal\n",
    "wage = dataFrame1.WAGE\n",
    "age = dataFrame1.AGE\n",
    "data_h_concat = pd.concat([wage, age], axis= 1)\n",
    "\n",
    "print(data_h_concat.loc[:], \"\\n\")"
   ]
  },
  {
   "cell_type": "code",
   "execution_count": 15,
   "metadata": {},
   "outputs": [
    {
     "name": "stdout",
     "output_type": "stream",
     "text": [
      "    NAME  AGE  WAGE Wage_Level  apply_method\n",
      "0    ali   15   100        low            30\n",
      "1   veli   16   150        low            32\n",
      "2  kenan   17   240       high            34\n",
      "3  hilal   33   350       high            66\n",
      "4   ayse   45   110        low            90\n",
      "5  evren   66   220       high           132 \n",
      "\n"
     ]
    }
   ],
   "source": [
    "def multiply(age):\n",
    "    return age*2\n",
    "dataFrame1[\"apply_method\"] = dataFrame1.AGE.apply(multiply)\n",
    "\n",
    "print(dataFrame1.loc[:], \"\\n\")"
   ]
  },
  {
   "cell_type": "code",
   "execution_count": null,
   "metadata": {},
   "outputs": [],
   "source": []
  }
 ],
 "metadata": {
  "kernelspec": {
   "display_name": "Python 3",
   "language": "python",
   "name": "python3"
  },
  "language_info": {
   "codemirror_mode": {
    "name": "ipython",
    "version": 3
   },
   "file_extension": ".py",
   "mimetype": "text/x-python",
   "name": "python",
   "nbconvert_exporter": "python",
   "pygments_lexer": "ipython3",
   "version": "3.10.8 (tags/v3.10.8:aaaf517, Oct 11 2022, 16:50:30) [MSC v.1933 64 bit (AMD64)]"
  },
  "orig_nbformat": 4,
  "vscode": {
   "interpreter": {
    "hash": "26de051ba29f2982a8de78e945f0abaf191376122a1563185a90213a26c5da77"
   }
  }
 },
 "nbformat": 4,
 "nbformat_minor": 2
}
